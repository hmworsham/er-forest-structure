{
 "metadata": {
  "language_info": {
   "codemirror_mode": {
    "name": "ipython",
    "version": 3
   },
   "file_extension": ".py",
   "mimetype": "text/x-python",
   "name": "python",
   "nbconvert_exporter": "python",
   "pygments_lexer": "ipython3",
   "version": "3.8.2-final"
  },
  "orig_nbformat": 2,
  "kernelspec": {
   "name": "python3",
   "display_name": "Python 3.8.2 64-bit ('eastriver')",
   "metadata": {
    "interpreter": {
     "hash": "694906d4bdfb4419bb11f4dc5dd7571da8b03b6ba5e3b3dfe65feafb153e7a85"
    }
   }
  }
 },
 "nbformat": 4,
 "nbformat_minor": 2,
 "cells": [
  {
   "source": [
    "# Pull Forest Inventory Plot Coordinates and Areas"
   ],
   "cell_type": "markdown",
   "metadata": {}
  },
  {
   "cell_type": "code",
   "execution_count": 2,
   "metadata": {},
   "outputs": [],
   "source": [
    "author = ['Marshall Worsham']\n",
    "date = 2020-10-23"
   ]
  },
  {
   "source": [
    "This notebook contains scripts that retrieve the coordinates from shapefiles marking the locations of 14 Kueppers 40x40m forest inventory plots in the East River watershed, Colorado, US, as of August 2020. The code operates on two types of shapefiles for each plot:\n",
    "\n",
    "1. polygon shapefile representing the footprints of all plots, which contains computed Cartesian area and plot center coordinates\n",
    "2. point shapefile representing the four corners of the plot\n",
    "\n",
    "The script pulls the stored area and plot center coordinates from the polygon's data table. Then it imports the points into a geodataframe with CRS = WGS84 and pulls the coordinates from the imputed geometries of the four corners."
   ],
   "cell_type": "markdown",
   "metadata": {}
  },
  {
   "source": [
    "## 1. Load libraries"
   ],
   "cell_type": "markdown",
   "metadata": {}
  },
  {
   "cell_type": "code",
   "execution_count": 47,
   "metadata": {},
   "outputs": [],
   "source": [
    "import os\n",
    "import pandas as pd\n",
    "import geopandas as gpd\n",
    "import numpy as np\n",
    "import math\n",
    "import re\n",
    "from matplotlib import pyplot as plt\n",
    "from os.path import join, getsize\n",
    "%matplotlib inline"
   ]
  },
  {
   "source": [
    "## 2. Import shapefiles"
   ],
   "cell_type": "markdown",
   "metadata": {}
  },
  {
   "cell_type": "code",
   "execution_count": 48,
   "metadata": {},
   "outputs": [
    {
     "output_type": "execute_result",
     "data": {
      "text/plain": [
       "['SG-SWR1_Bound_lines_WGS84UTM13N.dbf',\n",
       " 'ER-GT1_PlotCenter_WGS84UTM13N.shp.xml',\n",
       " 'XX-CAR1_Bound_lines_WGS84UTM13N.sbx',\n",
       " 'ER-BME2_Bound_poly_WGS84UTM13N.sbn',\n",
       " 'XX-PLN1_Bound_lines_WGS84UTM13N.dbf',\n",
       " 'CC-UC2_Bound_poly_WGS84UTM13N.sbx',\n",
       " 'ER-APL1_Bound_lines_WGS84UTM13N.shp',\n",
       " 'XX-PLN2_Bound_pts_WGS84UTM13N.cpg',\n",
       " 'XX-CAR2_Bound_poly_WGS84UTM13N.dbf',\n",
       " 'XX-PLN2_Bound_poly_WGS84UTM13N.sbx']"
      ]
     },
     "metadata": {},
     "execution_count": 48
    }
   ],
   "source": [
    "# Define a few directories\n",
    "os.getcwd()\n",
    "directory = '/Users/hmworsham/Desktop/RMBL/Projects/Watershed_Spatial_Dataset/'\n",
    "source_dir = os.sep.join([directory, 'Source'])\n",
    "out_dir = os.sep.join([directory, 'Output'])\n",
    "\n",
    "# Call a directory storing all shapefiles and list contents\n",
    "sf_dir = os.sep.join([directory, 'Output/Kueppers_Plot_Bnd_2020_WGS84UTM13N_Renamed'])\n",
    "os.listdir(sf_dir)[:10]"
   ]
  },
  {
   "source": [
    "## 3. Pull coordinates from the 'All Plots' shapefile"
   ],
   "cell_type": "markdown",
   "metadata": {}
  },
  {
   "cell_type": "code",
   "execution_count": 5,
   "metadata": {},
   "outputs": [],
   "source": [
    "# Isolate the polygon sf containing all plot footprints\n",
    "kplots = [i for i in os.listdir(sf_dir) if ('Kueppers' in i) and (i.endswith('.shp'))]\n",
    "\n",
    "# Import as a pandas geodatabase\n",
    "kplots_gpdf = gpd.read_file(sf_dir + os.sep + kplots[0])"
   ]
  },
  {
   "cell_type": "code",
   "execution_count": 75,
   "metadata": {},
   "outputs": [
    {
     "output_type": "execute_result",
     "data": {
      "text/plain": [
       "   Id    POLY_AREA     AREA_GEO     CENTROID_X    CENTROID_Y      EXT_MIN_X  \\\n",
       "0   0  1221.776739  1221.863563  327968.771206  4.309996e+06  327949.990483   \n",
       "1   0  1177.413239  1177.591884  337758.617869  4.302957e+06  337736.807200   \n",
       "2   0  1287.171970  1287.196562  321927.062151  4.297227e+06  321908.283631   \n",
       "3   0  1235.951437  1235.963259  320848.986798  4.301036e+06  320829.547759   \n",
       "4   0  1410.672586  1410.729972  324398.723984  4.313021e+06  324373.194049   \n",
       "\n",
       "      EXT_MIN_Y      EXT_MAX_X     EXT_MAX_Y   PERIMETER   PERIM_GEO  \\\n",
       "0  4.309978e+06  327989.478774  4.310016e+06  140.646309  140.651312   \n",
       "1  4.302939e+06  337778.177932  4.302973e+06  139.726001  139.736602   \n",
       "2  4.297210e+06  321947.804717  4.297248e+06  144.320193  144.321566   \n",
       "3  4.301015e+06  320867.887399  4.301054e+06  141.227379  141.228053   \n",
       "4  4.312994e+06  324424.847580  4.313048e+06  150.371128  150.374179   \n",
       "\n",
       "    GEOMCTR_X  GEOMCTR_Y  Plot_ID  PNT_COUNT  \\\n",
       "0 -106.984442  38.922037  SG-SWR1        5.0   \n",
       "1 -106.869902  38.860505  XX-PLN1        5.0   \n",
       "2 -107.050785  38.805835  XX-CAR2        5.0   \n",
       "3 -107.064186  38.839922   CC-UC1        5.0   \n",
       "4 -107.026375  38.948571  WG-WGM1        5.0   \n",
       "\n",
       "                                            geometry  \n",
       "0  POLYGON ((327988.594 4310009.047, 327984.998 4...  \n",
       "1  POLYGON ((337778.178 4302938.646, 337739.318 4...  \n",
       "2  POLYGON ((321942.220 4297244.424, 321946.919 4...  \n",
       "3  POLYGON ((320863.247 4301015.870, 320828.662 4...  \n",
       "4  POLYGON ((324423.962 4313019.558, 324394.979 4...  "
      ],
      "text/html": "<div>\n<style scoped>\n    .dataframe tbody tr th:only-of-type {\n        vertical-align: middle;\n    }\n\n    .dataframe tbody tr th {\n        vertical-align: top;\n    }\n\n    .dataframe thead th {\n        text-align: right;\n    }\n</style>\n<table border=\"1\" class=\"dataframe\">\n  <thead>\n    <tr style=\"text-align: right;\">\n      <th></th>\n      <th>Id</th>\n      <th>POLY_AREA</th>\n      <th>AREA_GEO</th>\n      <th>CENTROID_X</th>\n      <th>CENTROID_Y</th>\n      <th>EXT_MIN_X</th>\n      <th>EXT_MIN_Y</th>\n      <th>EXT_MAX_X</th>\n      <th>EXT_MAX_Y</th>\n      <th>PERIMETER</th>\n      <th>PERIM_GEO</th>\n      <th>GEOMCTR_X</th>\n      <th>GEOMCTR_Y</th>\n      <th>Plot_ID</th>\n      <th>PNT_COUNT</th>\n      <th>geometry</th>\n    </tr>\n  </thead>\n  <tbody>\n    <tr>\n      <th>0</th>\n      <td>0</td>\n      <td>1221.776739</td>\n      <td>1221.863563</td>\n      <td>327968.771206</td>\n      <td>4.309996e+06</td>\n      <td>327949.990483</td>\n      <td>4.309978e+06</td>\n      <td>327989.478774</td>\n      <td>4.310016e+06</td>\n      <td>140.646309</td>\n      <td>140.651312</td>\n      <td>-106.984442</td>\n      <td>38.922037</td>\n      <td>SG-SWR1</td>\n      <td>5.0</td>\n      <td>POLYGON ((327988.594 4310009.047, 327984.998 4...</td>\n    </tr>\n    <tr>\n      <th>1</th>\n      <td>0</td>\n      <td>1177.413239</td>\n      <td>1177.591884</td>\n      <td>337758.617869</td>\n      <td>4.302957e+06</td>\n      <td>337736.807200</td>\n      <td>4.302939e+06</td>\n      <td>337778.177932</td>\n      <td>4.302973e+06</td>\n      <td>139.726001</td>\n      <td>139.736602</td>\n      <td>-106.869902</td>\n      <td>38.860505</td>\n      <td>XX-PLN1</td>\n      <td>5.0</td>\n      <td>POLYGON ((337778.178 4302938.646, 337739.318 4...</td>\n    </tr>\n    <tr>\n      <th>2</th>\n      <td>0</td>\n      <td>1287.171970</td>\n      <td>1287.196562</td>\n      <td>321927.062151</td>\n      <td>4.297227e+06</td>\n      <td>321908.283631</td>\n      <td>4.297210e+06</td>\n      <td>321947.804717</td>\n      <td>4.297248e+06</td>\n      <td>144.320193</td>\n      <td>144.321566</td>\n      <td>-107.050785</td>\n      <td>38.805835</td>\n      <td>XX-CAR2</td>\n      <td>5.0</td>\n      <td>POLYGON ((321942.220 4297244.424, 321946.919 4...</td>\n    </tr>\n    <tr>\n      <th>3</th>\n      <td>0</td>\n      <td>1235.951437</td>\n      <td>1235.963259</td>\n      <td>320848.986798</td>\n      <td>4.301036e+06</td>\n      <td>320829.547759</td>\n      <td>4.301015e+06</td>\n      <td>320867.887399</td>\n      <td>4.301054e+06</td>\n      <td>141.227379</td>\n      <td>141.228053</td>\n      <td>-107.064186</td>\n      <td>38.839922</td>\n      <td>CC-UC1</td>\n      <td>5.0</td>\n      <td>POLYGON ((320863.247 4301015.870, 320828.662 4...</td>\n    </tr>\n    <tr>\n      <th>4</th>\n      <td>0</td>\n      <td>1410.672586</td>\n      <td>1410.729972</td>\n      <td>324398.723984</td>\n      <td>4.313021e+06</td>\n      <td>324373.194049</td>\n      <td>4.312994e+06</td>\n      <td>324424.847580</td>\n      <td>4.313048e+06</td>\n      <td>150.371128</td>\n      <td>150.374179</td>\n      <td>-107.026375</td>\n      <td>38.948571</td>\n      <td>WG-WGM1</td>\n      <td>5.0</td>\n      <td>POLYGON ((324423.962 4313019.558, 324394.979 4...</td>\n    </tr>\n  </tbody>\n</table>\n</div>"
     },
     "metadata": {},
     "execution_count": 75
    }
   ],
   "source": [
    "# verify the geodatabase loads as expected\n",
    "kplots_gpdf.head()"
   ]
  },
  {
   "cell_type": "code",
   "execution_count": 10,
   "metadata": {},
   "outputs": [
    {
     "output_type": "execute_result",
     "data": {
      "text/plain": [
       "                  Name     Short   SFA_ID   Latitude   Longitude\n",
       "0             Carbon 1   Carbon1  XX-CAR1  38.824003 -107.021400\n",
       "1             Carbon 2   Carbon2  XX-CAR2  38.805835 -107.050785\n",
       "2          Ohio Pass 1     Ohio1   CC-UC2  38.829368 -107.082607\n",
       "3      Point Lookout 1       PL1  XX-PLN1  38.860497 -106.869908\n",
       "4      Point Lookout 2       PL2  XX-PLN2  38.853734 -106.869228\n",
       "5         Schofield 19    Scho19  ER-APL1  38.977070 -106.992279\n",
       "6         Schofield 23    Scho23  ER-BME1  38.976018 -107.030406\n",
       "7         Schofield 24    Scho24   ER-GT1  38.977226 -107.005961\n",
       "8          Schofield 4     Scho4  ER-BME2  38.983970 -107.017749\n",
       "9          Schofield 5     Scho5  ER-APU1  38.979139 -106.980358\n",
       "10         Snodgrass 1     Snod1  SG-SWR1  38.922037 -106.984442\n",
       "11         Snodgrass 2     Snod2  SG-NES2  38.930426 -106.986841\n",
       "12           Splains 1  Splains1   CC-UC1  38.839923 -107.064185\n",
       "13  Washington Gulch 1     Wash1  WG-WGM1  38.948571 -107.026375"
      ],
      "text/html": "<div>\n<style scoped>\n    .dataframe tbody tr th:only-of-type {\n        vertical-align: middle;\n    }\n\n    .dataframe tbody tr th {\n        vertical-align: top;\n    }\n\n    .dataframe thead th {\n        text-align: right;\n    }\n</style>\n<table border=\"1\" class=\"dataframe\">\n  <thead>\n    <tr style=\"text-align: right;\">\n      <th></th>\n      <th>Name</th>\n      <th>Short</th>\n      <th>SFA_ID</th>\n      <th>Latitude</th>\n      <th>Longitude</th>\n    </tr>\n  </thead>\n  <tbody>\n    <tr>\n      <th>0</th>\n      <td>Carbon 1</td>\n      <td>Carbon1</td>\n      <td>XX-CAR1</td>\n      <td>38.824003</td>\n      <td>-107.021400</td>\n    </tr>\n    <tr>\n      <th>1</th>\n      <td>Carbon 2</td>\n      <td>Carbon2</td>\n      <td>XX-CAR2</td>\n      <td>38.805835</td>\n      <td>-107.050785</td>\n    </tr>\n    <tr>\n      <th>2</th>\n      <td>Ohio Pass 1</td>\n      <td>Ohio1</td>\n      <td>CC-UC2</td>\n      <td>38.829368</td>\n      <td>-107.082607</td>\n    </tr>\n    <tr>\n      <th>3</th>\n      <td>Point Lookout 1</td>\n      <td>PL1</td>\n      <td>XX-PLN1</td>\n      <td>38.860497</td>\n      <td>-106.869908</td>\n    </tr>\n    <tr>\n      <th>4</th>\n      <td>Point Lookout 2</td>\n      <td>PL2</td>\n      <td>XX-PLN2</td>\n      <td>38.853734</td>\n      <td>-106.869228</td>\n    </tr>\n    <tr>\n      <th>5</th>\n      <td>Schofield 19</td>\n      <td>Scho19</td>\n      <td>ER-APL1</td>\n      <td>38.977070</td>\n      <td>-106.992279</td>\n    </tr>\n    <tr>\n      <th>6</th>\n      <td>Schofield 23</td>\n      <td>Scho23</td>\n      <td>ER-BME1</td>\n      <td>38.976018</td>\n      <td>-107.030406</td>\n    </tr>\n    <tr>\n      <th>7</th>\n      <td>Schofield 24</td>\n      <td>Scho24</td>\n      <td>ER-GT1</td>\n      <td>38.977226</td>\n      <td>-107.005961</td>\n    </tr>\n    <tr>\n      <th>8</th>\n      <td>Schofield 4</td>\n      <td>Scho4</td>\n      <td>ER-BME2</td>\n      <td>38.983970</td>\n      <td>-107.017749</td>\n    </tr>\n    <tr>\n      <th>9</th>\n      <td>Schofield 5</td>\n      <td>Scho5</td>\n      <td>ER-APU1</td>\n      <td>38.979139</td>\n      <td>-106.980358</td>\n    </tr>\n    <tr>\n      <th>10</th>\n      <td>Snodgrass 1</td>\n      <td>Snod1</td>\n      <td>SG-SWR1</td>\n      <td>38.922037</td>\n      <td>-106.984442</td>\n    </tr>\n    <tr>\n      <th>11</th>\n      <td>Snodgrass 2</td>\n      <td>Snod2</td>\n      <td>SG-NES2</td>\n      <td>38.930426</td>\n      <td>-106.986841</td>\n    </tr>\n    <tr>\n      <th>12</th>\n      <td>Splains 1</td>\n      <td>Splains1</td>\n      <td>CC-UC1</td>\n      <td>38.839923</td>\n      <td>-107.064185</td>\n    </tr>\n    <tr>\n      <th>13</th>\n      <td>Washington Gulch 1</td>\n      <td>Wash1</td>\n      <td>WG-WGM1</td>\n      <td>38.948571</td>\n      <td>-107.026375</td>\n    </tr>\n  </tbody>\n</table>\n</div>"
     },
     "metadata": {},
     "execution_count": 10
    }
   ],
   "source": [
    "# Import external list of plot names, short-form IDs and center point coordinates\n",
    "coords = pd.read_csv(os.sep.join([source_dir, 'Kueppers_PlotIDs_Coords.csv']))\n",
    "coords"
   ]
  },
  {
   "cell_type": "code",
   "execution_count": 11,
   "metadata": {},
   "outputs": [],
   "source": [
    "# Create a new field in the kplots geodataframe and store temporary empty values\n",
    "kplots_gpdf['Plot_ID'] = None"
   ]
  },
  {
   "cell_type": "code",
   "execution_count": 16,
   "metadata": {
    "tags": []
   },
   "outputs": [
    {
     "output_type": "execute_result",
     "data": {
      "text/plain": [
       "    Id    POLY_AREA     AREA_GEO     CENTROID_X    CENTROID_Y      EXT_MIN_X  \\\n",
       "0    0  1221.776739  1221.863563  327968.771206  4.309996e+06  327949.990483   \n",
       "1    0  1177.413239  1177.591884  337758.617869  4.302957e+06  337736.807200   \n",
       "2    0  1287.171970  1287.196562  321927.062151  4.297227e+06  321908.283631   \n",
       "3    0  1235.951437  1235.963259  320848.986798  4.301036e+06  320829.547759   \n",
       "4    0  1410.672586  1410.729972  324398.723984  4.313021e+06  324373.194049   \n",
       "5    0  1944.148344  1944.277445  327423.102519  4.316119e+06  327398.007549   \n",
       "6    0  1538.640795  1538.633255  319223.426529  4.299901e+06  319196.384466   \n",
       "7    0  1818.032892  1818.309599  337801.998507  4.302205e+06  337775.829576   \n",
       "8    0  1516.847184  1516.910426  324523.481959  4.299187e+06  324496.662428   \n",
       "9    0  1472.609336  1472.711700  327781.177429  4.310932e+06  327759.284432   \n",
       "10   0  1483.889870  1483.960785  325233.109330  4.316933e+06  325213.219764   \n",
       "11   0  1605.638379  1605.699490  324117.327461  4.316075e+06  324094.267495   \n",
       "12   0  1501.807782  1501.920948  328460.395673  4.316326e+06  328436.649743   \n",
       "13   0  1692.776572  1692.872451  326237.765162  4.316162e+06  326209.004360   \n",
       "\n",
       "       EXT_MIN_Y      EXT_MAX_X     EXT_MAX_Y   PERIMETER   PERIM_GEO  \\\n",
       "0   4.309978e+06  327989.478774  4.310016e+06  140.646309  140.651312   \n",
       "1   4.302939e+06  337778.177932  4.302973e+06  139.726001  139.736602   \n",
       "2   4.297210e+06  321947.804717  4.297248e+06  144.320193  144.321566   \n",
       "3   4.301015e+06  320867.887399  4.301054e+06  141.227379  141.228053   \n",
       "4   4.312994e+06  324424.847580  4.313048e+06  150.371128  150.374179   \n",
       "5   4.316097e+06  327447.832708  4.316140e+06  176.879332  176.885215   \n",
       "6   4.299874e+06  319249.271857  4.299929e+06  157.109924  157.109542   \n",
       "7   4.302177e+06  337826.470554  4.302231e+06  171.090087  171.103097   \n",
       "8   4.299165e+06  324549.502483  4.299208e+06  157.025256  157.028524   \n",
       "9   4.310911e+06  327804.486267  4.310953e+06  153.698276  153.703621   \n",
       "10  4.316913e+06  325253.159221  4.316953e+06  154.335251  154.338939   \n",
       "11  4.316053e+06  324136.994521  4.316098e+06  160.696633  160.699698   \n",
       "12  4.316301e+06  328485.988310  4.316352e+06  155.329092  155.334941   \n",
       "13  4.316133e+06  326267.092899  4.316190e+06  165.228469  165.233129   \n",
       "\n",
       "     GEOMCTR_X  GEOMCTR_Y  Plot_ID  PNT_COUNT  \\\n",
       "0  -106.984442  38.922037  SG-SWR1        5.0   \n",
       "1  -106.869902  38.860505  XX-PLN1        5.0   \n",
       "2  -107.050785  38.805835  XX-CAR2        5.0   \n",
       "3  -107.064186  38.839922   CC-UC1        5.0   \n",
       "4  -107.026375  38.948571  WG-WGM1        5.0   \n",
       "5  -106.992277  38.977069  ER-APL1        5.0   \n",
       "6  -107.082607  38.829368   CC-UC2        5.0   \n",
       "7  -106.869228  38.853734  XX-PLN2        5.0   \n",
       "8  -107.021400  38.824003  XX-CAR1        5.0   \n",
       "9  -106.986841  38.930426  SG-NES2        5.0   \n",
       "10 -107.017749  38.983970  ER-BME2        5.0   \n",
       "11 -107.030406  38.976018  ER-BME1        5.0   \n",
       "12 -106.980358  38.979139  ER-APU1        5.0   \n",
       "13 -107.005961  38.977226   ER-GT1        5.0   \n",
       "\n",
       "                                             geometry  \n",
       "0   POLYGON ((327988.594 4310009.047, 327984.998 4...  \n",
       "1   POLYGON ((337778.178 4302938.646, 337739.318 4...  \n",
       "2   POLYGON ((321942.220 4297244.424, 321946.919 4...  \n",
       "3   POLYGON ((320863.247 4301015.870, 320828.662 4...  \n",
       "4   POLYGON ((324423.962 4313019.558, 324394.979 4...  \n",
       "5   POLYGON ((327446.948 4316140.152, 327443.430 4...  \n",
       "6   POLYGON ((319248.385 4299896.601, 319217.419 4...  \n",
       "7   POLYGON ((337825.587 4302220.530, 337818.147 4...  \n",
       "8   POLYGON ((324548.617 4299202.260, 324536.204 4...  \n",
       "9   POLYGON ((327803.601 4310948.312, 327795.439 4...  \n",
       "10  POLYGON ((325252.274 4316913.555, 325212.833 4...  \n",
       "11  POLYGON ((324136.109 4316057.647, 324099.958 4...  \n",
       "12  POLYGON ((328485.104 4316314.960, 328448.263 4...  \n",
       "13  POLYGON ((326266.208 4316162.315, 326230.005 4...  "
      ],
      "text/html": "<div>\n<style scoped>\n    .dataframe tbody tr th:only-of-type {\n        vertical-align: middle;\n    }\n\n    .dataframe tbody tr th {\n        vertical-align: top;\n    }\n\n    .dataframe thead th {\n        text-align: right;\n    }\n</style>\n<table border=\"1\" class=\"dataframe\">\n  <thead>\n    <tr style=\"text-align: right;\">\n      <th></th>\n      <th>Id</th>\n      <th>POLY_AREA</th>\n      <th>AREA_GEO</th>\n      <th>CENTROID_X</th>\n      <th>CENTROID_Y</th>\n      <th>EXT_MIN_X</th>\n      <th>EXT_MIN_Y</th>\n      <th>EXT_MAX_X</th>\n      <th>EXT_MAX_Y</th>\n      <th>PERIMETER</th>\n      <th>PERIM_GEO</th>\n      <th>GEOMCTR_X</th>\n      <th>GEOMCTR_Y</th>\n      <th>Plot_ID</th>\n      <th>PNT_COUNT</th>\n      <th>geometry</th>\n    </tr>\n  </thead>\n  <tbody>\n    <tr>\n      <th>0</th>\n      <td>0</td>\n      <td>1221.776739</td>\n      <td>1221.863563</td>\n      <td>327968.771206</td>\n      <td>4.309996e+06</td>\n      <td>327949.990483</td>\n      <td>4.309978e+06</td>\n      <td>327989.478774</td>\n      <td>4.310016e+06</td>\n      <td>140.646309</td>\n      <td>140.651312</td>\n      <td>-106.984442</td>\n      <td>38.922037</td>\n      <td>SG-SWR1</td>\n      <td>5.0</td>\n      <td>POLYGON ((327988.594 4310009.047, 327984.998 4...</td>\n    </tr>\n    <tr>\n      <th>1</th>\n      <td>0</td>\n      <td>1177.413239</td>\n      <td>1177.591884</td>\n      <td>337758.617869</td>\n      <td>4.302957e+06</td>\n      <td>337736.807200</td>\n      <td>4.302939e+06</td>\n      <td>337778.177932</td>\n      <td>4.302973e+06</td>\n      <td>139.726001</td>\n      <td>139.736602</td>\n      <td>-106.869902</td>\n      <td>38.860505</td>\n      <td>XX-PLN1</td>\n      <td>5.0</td>\n      <td>POLYGON ((337778.178 4302938.646, 337739.318 4...</td>\n    </tr>\n    <tr>\n      <th>2</th>\n      <td>0</td>\n      <td>1287.171970</td>\n      <td>1287.196562</td>\n      <td>321927.062151</td>\n      <td>4.297227e+06</td>\n      <td>321908.283631</td>\n      <td>4.297210e+06</td>\n      <td>321947.804717</td>\n      <td>4.297248e+06</td>\n      <td>144.320193</td>\n      <td>144.321566</td>\n      <td>-107.050785</td>\n      <td>38.805835</td>\n      <td>XX-CAR2</td>\n      <td>5.0</td>\n      <td>POLYGON ((321942.220 4297244.424, 321946.919 4...</td>\n    </tr>\n    <tr>\n      <th>3</th>\n      <td>0</td>\n      <td>1235.951437</td>\n      <td>1235.963259</td>\n      <td>320848.986798</td>\n      <td>4.301036e+06</td>\n      <td>320829.547759</td>\n      <td>4.301015e+06</td>\n      <td>320867.887399</td>\n      <td>4.301054e+06</td>\n      <td>141.227379</td>\n      <td>141.228053</td>\n      <td>-107.064186</td>\n      <td>38.839922</td>\n      <td>CC-UC1</td>\n      <td>5.0</td>\n      <td>POLYGON ((320863.247 4301015.870, 320828.662 4...</td>\n    </tr>\n    <tr>\n      <th>4</th>\n      <td>0</td>\n      <td>1410.672586</td>\n      <td>1410.729972</td>\n      <td>324398.723984</td>\n      <td>4.313021e+06</td>\n      <td>324373.194049</td>\n      <td>4.312994e+06</td>\n      <td>324424.847580</td>\n      <td>4.313048e+06</td>\n      <td>150.371128</td>\n      <td>150.374179</td>\n      <td>-107.026375</td>\n      <td>38.948571</td>\n      <td>WG-WGM1</td>\n      <td>5.0</td>\n      <td>POLYGON ((324423.962 4313019.558, 324394.979 4...</td>\n    </tr>\n    <tr>\n      <th>5</th>\n      <td>0</td>\n      <td>1944.148344</td>\n      <td>1944.277445</td>\n      <td>327423.102519</td>\n      <td>4.316119e+06</td>\n      <td>327398.007549</td>\n      <td>4.316097e+06</td>\n      <td>327447.832708</td>\n      <td>4.316140e+06</td>\n      <td>176.879332</td>\n      <td>176.885215</td>\n      <td>-106.992277</td>\n      <td>38.977069</td>\n      <td>ER-APL1</td>\n      <td>5.0</td>\n      <td>POLYGON ((327446.948 4316140.152, 327443.430 4...</td>\n    </tr>\n    <tr>\n      <th>6</th>\n      <td>0</td>\n      <td>1538.640795</td>\n      <td>1538.633255</td>\n      <td>319223.426529</td>\n      <td>4.299901e+06</td>\n      <td>319196.384466</td>\n      <td>4.299874e+06</td>\n      <td>319249.271857</td>\n      <td>4.299929e+06</td>\n      <td>157.109924</td>\n      <td>157.109542</td>\n      <td>-107.082607</td>\n      <td>38.829368</td>\n      <td>CC-UC2</td>\n      <td>5.0</td>\n      <td>POLYGON ((319248.385 4299896.601, 319217.419 4...</td>\n    </tr>\n    <tr>\n      <th>7</th>\n      <td>0</td>\n      <td>1818.032892</td>\n      <td>1818.309599</td>\n      <td>337801.998507</td>\n      <td>4.302205e+06</td>\n      <td>337775.829576</td>\n      <td>4.302177e+06</td>\n      <td>337826.470554</td>\n      <td>4.302231e+06</td>\n      <td>171.090087</td>\n      <td>171.103097</td>\n      <td>-106.869228</td>\n      <td>38.853734</td>\n      <td>XX-PLN2</td>\n      <td>5.0</td>\n      <td>POLYGON ((337825.587 4302220.530, 337818.147 4...</td>\n    </tr>\n    <tr>\n      <th>8</th>\n      <td>0</td>\n      <td>1516.847184</td>\n      <td>1516.910426</td>\n      <td>324523.481959</td>\n      <td>4.299187e+06</td>\n      <td>324496.662428</td>\n      <td>4.299165e+06</td>\n      <td>324549.502483</td>\n      <td>4.299208e+06</td>\n      <td>157.025256</td>\n      <td>157.028524</td>\n      <td>-107.021400</td>\n      <td>38.824003</td>\n      <td>XX-CAR1</td>\n      <td>5.0</td>\n      <td>POLYGON ((324548.617 4299202.260, 324536.204 4...</td>\n    </tr>\n    <tr>\n      <th>9</th>\n      <td>0</td>\n      <td>1472.609336</td>\n      <td>1472.711700</td>\n      <td>327781.177429</td>\n      <td>4.310932e+06</td>\n      <td>327759.284432</td>\n      <td>4.310911e+06</td>\n      <td>327804.486267</td>\n      <td>4.310953e+06</td>\n      <td>153.698276</td>\n      <td>153.703621</td>\n      <td>-106.986841</td>\n      <td>38.930426</td>\n      <td>SG-NES2</td>\n      <td>5.0</td>\n      <td>POLYGON ((327803.601 4310948.312, 327795.439 4...</td>\n    </tr>\n    <tr>\n      <th>10</th>\n      <td>0</td>\n      <td>1483.889870</td>\n      <td>1483.960785</td>\n      <td>325233.109330</td>\n      <td>4.316933e+06</td>\n      <td>325213.219764</td>\n      <td>4.316913e+06</td>\n      <td>325253.159221</td>\n      <td>4.316953e+06</td>\n      <td>154.335251</td>\n      <td>154.338939</td>\n      <td>-107.017749</td>\n      <td>38.983970</td>\n      <td>ER-BME2</td>\n      <td>5.0</td>\n      <td>POLYGON ((325252.274 4316913.555, 325212.833 4...</td>\n    </tr>\n    <tr>\n      <th>11</th>\n      <td>0</td>\n      <td>1605.638379</td>\n      <td>1605.699490</td>\n      <td>324117.327461</td>\n      <td>4.316075e+06</td>\n      <td>324094.267495</td>\n      <td>4.316053e+06</td>\n      <td>324136.994521</td>\n      <td>4.316098e+06</td>\n      <td>160.696633</td>\n      <td>160.699698</td>\n      <td>-107.030406</td>\n      <td>38.976018</td>\n      <td>ER-BME1</td>\n      <td>5.0</td>\n      <td>POLYGON ((324136.109 4316057.647, 324099.958 4...</td>\n    </tr>\n    <tr>\n      <th>12</th>\n      <td>0</td>\n      <td>1501.807782</td>\n      <td>1501.920948</td>\n      <td>328460.395673</td>\n      <td>4.316326e+06</td>\n      <td>328436.649743</td>\n      <td>4.316301e+06</td>\n      <td>328485.988310</td>\n      <td>4.316352e+06</td>\n      <td>155.329092</td>\n      <td>155.334941</td>\n      <td>-106.980358</td>\n      <td>38.979139</td>\n      <td>ER-APU1</td>\n      <td>5.0</td>\n      <td>POLYGON ((328485.104 4316314.960, 328448.263 4...</td>\n    </tr>\n    <tr>\n      <th>13</th>\n      <td>0</td>\n      <td>1692.776572</td>\n      <td>1692.872451</td>\n      <td>326237.765162</td>\n      <td>4.316162e+06</td>\n      <td>326209.004360</td>\n      <td>4.316133e+06</td>\n      <td>326267.092899</td>\n      <td>4.316190e+06</td>\n      <td>165.228469</td>\n      <td>165.233129</td>\n      <td>-107.005961</td>\n      <td>38.977226</td>\n      <td>ER-GT1</td>\n      <td>5.0</td>\n      <td>POLYGON ((326266.208 4316162.315, 326230.005 4...</td>\n    </tr>\n  </tbody>\n</table>\n</div>"
     },
     "metadata": {},
     "execution_count": 16
    }
   ],
   "source": [
    "# inner join coords and kplots_gpdf on equal lat values to populate Plot_ID field with short name for reference\n",
    "# create temporary merge field 'latjoin'\n",
    "coords['latjoin'] = round(coords['Latitude'], 4)\n",
    "kplots_gpdf['latjoin'] = round(kplots_gpdf['GEOMCTR_Y'], 4)\n",
    "\n",
    "# merge as new gpdf\n",
    "new_df = kplots_gpdf.merge(coords, how = 'inner', on = 'latjoin')\n",
    "kplots_gpdf['Plot_ID'] = new_df['SFA_ID']\n",
    "kplots_gpdf = kplots_gpdf.drop(columns=['latjoin'])\n",
    "kplots_gpdf"
   ]
  },
  {
   "source": [
    "## 4. Pull coordinates and areas for all plots"
   ],
   "cell_type": "markdown",
   "metadata": {}
  },
  {
   "cell_type": "code",
   "execution_count": 71,
   "metadata": {},
   "outputs": [],
   "source": [
    "def pullcoords(plots):\n",
    "    '''\n",
    "    Calls plots by name, pulls corner coordinates, center coordinates, and areas, and appends the values to a dataframe\n",
    "    '''\n",
    "    sites, areas, centers, lats, lons = [], [], [], [], []\n",
    "    all_coords = pd.DataFrame()\n",
    "\n",
    "    for i in range(len(plots)):\n",
    "        site = plots[i]\n",
    "        plotpoints = [p for p in os.listdir(sf_dir) if (site in p) and ('pts' in p) and (p.endswith('.shp'))]\n",
    "        plotpoints_gpdf = gpd.read_file(os.sep.join([sf_dir, plotpoints[0]]))\n",
    "        pp = plotpoints_gpdf.to_crs('EPSG:4326')\n",
    "        area = np.round((kplots_gpdf.loc[kplots_gpdf['Plot_ID'] == site, \n",
    "                            ['AREA_GEO']].squeeze()),2)\n",
    "        ctr_lon = (kplots_gpdf.loc[kplots_gpdf['Plot_ID'] == site,\n",
    "                            ['GEOMCTR_X']].squeeze())\n",
    "        ctr_lat = (kplots_gpdf.loc[kplots_gpdf['Plot_ID'] == site,\n",
    "                            ['GEOMCTR_Y']].squeeze())\n",
    "\n",
    "        # print(ctrpts)\n",
    "        c1_lon = pp.geometry.x[0]\n",
    "        c2_lon = pp.geometry.x[1] \n",
    "        c3_lon = pp.geometry.x[2]\n",
    "        c4_lon = pp.geometry.x[3]\n",
    "        c1_lat = pp.geometry.y[0]\n",
    "        c2_lat = pp.geometry.y[1]\n",
    "        c3_lat = pp.geometry.y[2]\n",
    "        c4_lat = pp.geometry.y[3]\n",
    "\n",
    "        # make dataframe\n",
    "        series = list([c1_lat, c1_lon, c2_lat, c2_lon, c3_lat, c3_lon, c4_lat, c4_lon, ctr_lat, ctr_lon, area])\n",
    "        all_coords[site] = series\n",
    "    \n",
    "    all_coords.index = ['corner1_lat', 'corner1_lon', 'corner2_lat', 'corner2_lon', 'corner3_lat', 'corner3_lon', 'corner4_lat', 'corner4_lon', 'center_lat', 'center_lon', 'area']\n",
    "\n",
    "    return all_coords"
   ]
  },
  {
   "cell_type": "code",
   "execution_count": 70,
   "metadata": {},
   "outputs": [
    {
     "output_type": "stream",
     "name": "stdout",
     "text": [
      "XX-CAR1\n",
      "['XX-CAR1_Bound_pts_WGS84UTM13N.shp']\n",
      "XX-CAR2\n",
      "['XX-CAR2_Bound_pts_WGS84UTM13N.shp']\n",
      "CC-UC2\n",
      "['CC-UC2_Bound_pts_WGS84UTM13N.shp']\n",
      "XX-PLN1\n",
      "['XX-PLN1_Bound_pts_WGS84UTM13N.shp']\n",
      "XX-PLN2\n",
      "['XX-PLN2_Bound_pts_WGS84UTM13N.shp']\n",
      "ER-APL1\n",
      "['ER-APL1_Bound_pts_WGS84UTM13N.shp']\n",
      "ER-BME1\n",
      "['ER-BME1_Bound_pts_WGS84UTM13N.shp']\n",
      "ER-GT1\n",
      "['ER-GT1_Bound_pts_WGS84UTM13N.shp']\n",
      "ER-BME2\n",
      "['ER-BME2_Bound_pts_WGS84UTM13N.shp']\n",
      "ER-APU1\n",
      "['ER-APU1_Bound_pts_WGS84UTM13N.shp']\n",
      "SG-SWR1\n",
      "['SG-SWR1_Bound_pts_WGS84UTM13N.shp']\n",
      "SG-NES2\n",
      "['SG-NES2_Bound_pts_WGS84UTM13N.shp']\n",
      "CC-UC1\n",
      "['CC-UC1_Bound_pts_WGS84UTM13N.shp']\n",
      "WG-WGM1\n",
      "['WG-WGM1_Bound_pts_WGS84UTM13N.shp']\n"
     ]
    }
   ],
   "source": [
    "allplots = coords['SFA_ID']\n",
    "all_plotcoords = pullcoords(allplots)"
   ]
  },
  {
   "cell_type": "code",
   "execution_count": 49,
   "metadata": {},
   "outputs": [
    {
     "output_type": "execute_result",
     "data": {
      "text/plain": [
       "                  CC-UC1       CC-UC2      ER-APL1      ER-APU1      ER-BME1  \\\n",
       "corner1_lat    38.840071    38.829620    38.977250    38.979252    38.976162   \n",
       "corner1_lon  -107.064394  -107.082529  -106.992572  -106.980638  -107.030677   \n",
       "corner2_lat    38.840083    38.829323    38.977259    38.979371    38.976230   \n",
       "corner2_lon  -107.063973  -107.082307  -106.991997  -106.980268  -107.030186   \n",
       "corner3_lat    38.839733    38.829116    38.976877    38.979037    38.975857   \n",
       "corner3_lon  -107.064006  -107.082658  -106.992027  -106.980063  -107.030175   \n",
       "corner4_lat    38.839799    38.829408    38.976869    38.978909    38.975811   \n",
       "corner4_lon  -107.064406  -107.082919  -106.992512  -106.980485  -107.030591   \n",
       "center_lat     38.839922    38.829368    38.977069    38.979139    38.976018   \n",
       "center_lon   -107.064186  -107.082607  -106.992277  -106.980358  -107.030406   \n",
       "area         1235.960000  1538.630000  1944.280000  1501.920000  1605.700000   \n",
       "\n",
       "                 ER-BME2       ER-GT1      SG-NES2      SG-SWR1      WG-WGM1  \\\n",
       "corner1_lat    38.984154    38.977225    38.930610    38.922209    38.948597   \n",
       "corner1_lon  -107.017552  -107.005626  -106.987036  -106.984656  -107.026671   \n",
       "corner2_lat    38.983789    38.977476    38.930571    38.922148    38.948809   \n",
       "corner2_lon  -107.017516  -107.005890  -106.986576  -106.984207  -107.026361   \n",
       "corner3_lat    38.983807    38.976959    38.930237    38.921870    38.948555   \n",
       "corner3_lon  -107.017972  -107.006036  -106.986661  -106.984241  -107.026074   \n",
       "corner4_lat    38.984134    38.977260    38.930266    38.921903    38.948321   \n",
       "corner4_lon  -107.017987  -107.006297  -106.987089  -106.984656  -107.026402   \n",
       "center_lat     38.983970    38.977226    38.930426    38.922037    38.948571   \n",
       "center_lon   -107.017749  -107.005961  -106.986841  -106.984442  -107.026375   \n",
       "area         1483.960000  1692.870000  1472.710000  1221.860000  1410.730000   \n",
       "\n",
       "                 XX-CAR1      XX-CAR2      XX-PLN1      XX-PLN2  \n",
       "corner1_lat    38.823808    38.806019    38.860625    38.853615  \n",
       "corner1_lon  -107.021240  -107.050979  -106.870152  -106.869529  \n",
       "corner2_lat    38.824142    38.805987    38.860638    38.853964  \n",
       "corner2_lon  -107.021106  -107.050607  -106.869693  -106.869423  \n",
       "corner3_lat    38.824189    38.805688    38.860332    38.853873  \n",
       "corner3_lon  -107.021561  -107.050544  -106.869668  -106.868952  \n",
       "corner4_lat    38.823876    38.805672    38.860390    38.853487  \n",
       "corner4_lon  -107.021707  -107.050999  -106.870117  -106.869028  \n",
       "center_lat     38.824003    38.805835    38.860505    38.853734  \n",
       "center_lon   -107.021400  -107.050785  -106.869902  -106.869228  \n",
       "area         1516.910000  1287.200000  1177.590000  1818.310000  "
      ],
      "text/html": "<div>\n<style scoped>\n    .dataframe tbody tr th:only-of-type {\n        vertical-align: middle;\n    }\n\n    .dataframe tbody tr th {\n        vertical-align: top;\n    }\n\n    .dataframe thead th {\n        text-align: right;\n    }\n</style>\n<table border=\"1\" class=\"dataframe\">\n  <thead>\n    <tr style=\"text-align: right;\">\n      <th></th>\n      <th>CC-UC1</th>\n      <th>CC-UC2</th>\n      <th>ER-APL1</th>\n      <th>ER-APU1</th>\n      <th>ER-BME1</th>\n      <th>ER-BME2</th>\n      <th>ER-GT1</th>\n      <th>SG-NES2</th>\n      <th>SG-SWR1</th>\n      <th>WG-WGM1</th>\n      <th>XX-CAR1</th>\n      <th>XX-CAR2</th>\n      <th>XX-PLN1</th>\n      <th>XX-PLN2</th>\n    </tr>\n  </thead>\n  <tbody>\n    <tr>\n      <th>corner1_lat</th>\n      <td>38.840071</td>\n      <td>38.829620</td>\n      <td>38.977250</td>\n      <td>38.979252</td>\n      <td>38.976162</td>\n      <td>38.984154</td>\n      <td>38.977225</td>\n      <td>38.930610</td>\n      <td>38.922209</td>\n      <td>38.948597</td>\n      <td>38.823808</td>\n      <td>38.806019</td>\n      <td>38.860625</td>\n      <td>38.853615</td>\n    </tr>\n    <tr>\n      <th>corner1_lon</th>\n      <td>-107.064394</td>\n      <td>-107.082529</td>\n      <td>-106.992572</td>\n      <td>-106.980638</td>\n      <td>-107.030677</td>\n      <td>-107.017552</td>\n      <td>-107.005626</td>\n      <td>-106.987036</td>\n      <td>-106.984656</td>\n      <td>-107.026671</td>\n      <td>-107.021240</td>\n      <td>-107.050979</td>\n      <td>-106.870152</td>\n      <td>-106.869529</td>\n    </tr>\n    <tr>\n      <th>corner2_lat</th>\n      <td>38.840083</td>\n      <td>38.829323</td>\n      <td>38.977259</td>\n      <td>38.979371</td>\n      <td>38.976230</td>\n      <td>38.983789</td>\n      <td>38.977476</td>\n      <td>38.930571</td>\n      <td>38.922148</td>\n      <td>38.948809</td>\n      <td>38.824142</td>\n      <td>38.805987</td>\n      <td>38.860638</td>\n      <td>38.853964</td>\n    </tr>\n    <tr>\n      <th>corner2_lon</th>\n      <td>-107.063973</td>\n      <td>-107.082307</td>\n      <td>-106.991997</td>\n      <td>-106.980268</td>\n      <td>-107.030186</td>\n      <td>-107.017516</td>\n      <td>-107.005890</td>\n      <td>-106.986576</td>\n      <td>-106.984207</td>\n      <td>-107.026361</td>\n      <td>-107.021106</td>\n      <td>-107.050607</td>\n      <td>-106.869693</td>\n      <td>-106.869423</td>\n    </tr>\n    <tr>\n      <th>corner3_lat</th>\n      <td>38.839733</td>\n      <td>38.829116</td>\n      <td>38.976877</td>\n      <td>38.979037</td>\n      <td>38.975857</td>\n      <td>38.983807</td>\n      <td>38.976959</td>\n      <td>38.930237</td>\n      <td>38.921870</td>\n      <td>38.948555</td>\n      <td>38.824189</td>\n      <td>38.805688</td>\n      <td>38.860332</td>\n      <td>38.853873</td>\n    </tr>\n    <tr>\n      <th>corner3_lon</th>\n      <td>-107.064006</td>\n      <td>-107.082658</td>\n      <td>-106.992027</td>\n      <td>-106.980063</td>\n      <td>-107.030175</td>\n      <td>-107.017972</td>\n      <td>-107.006036</td>\n      <td>-106.986661</td>\n      <td>-106.984241</td>\n      <td>-107.026074</td>\n      <td>-107.021561</td>\n      <td>-107.050544</td>\n      <td>-106.869668</td>\n      <td>-106.868952</td>\n    </tr>\n    <tr>\n      <th>corner4_lat</th>\n      <td>38.839799</td>\n      <td>38.829408</td>\n      <td>38.976869</td>\n      <td>38.978909</td>\n      <td>38.975811</td>\n      <td>38.984134</td>\n      <td>38.977260</td>\n      <td>38.930266</td>\n      <td>38.921903</td>\n      <td>38.948321</td>\n      <td>38.823876</td>\n      <td>38.805672</td>\n      <td>38.860390</td>\n      <td>38.853487</td>\n    </tr>\n    <tr>\n      <th>corner4_lon</th>\n      <td>-107.064406</td>\n      <td>-107.082919</td>\n      <td>-106.992512</td>\n      <td>-106.980485</td>\n      <td>-107.030591</td>\n      <td>-107.017987</td>\n      <td>-107.006297</td>\n      <td>-106.987089</td>\n      <td>-106.984656</td>\n      <td>-107.026402</td>\n      <td>-107.021707</td>\n      <td>-107.050999</td>\n      <td>-106.870117</td>\n      <td>-106.869028</td>\n    </tr>\n    <tr>\n      <th>center_lat</th>\n      <td>38.839922</td>\n      <td>38.829368</td>\n      <td>38.977069</td>\n      <td>38.979139</td>\n      <td>38.976018</td>\n      <td>38.983970</td>\n      <td>38.977226</td>\n      <td>38.930426</td>\n      <td>38.922037</td>\n      <td>38.948571</td>\n      <td>38.824003</td>\n      <td>38.805835</td>\n      <td>38.860505</td>\n      <td>38.853734</td>\n    </tr>\n    <tr>\n      <th>center_lon</th>\n      <td>-107.064186</td>\n      <td>-107.082607</td>\n      <td>-106.992277</td>\n      <td>-106.980358</td>\n      <td>-107.030406</td>\n      <td>-107.017749</td>\n      <td>-107.005961</td>\n      <td>-106.986841</td>\n      <td>-106.984442</td>\n      <td>-107.026375</td>\n      <td>-107.021400</td>\n      <td>-107.050785</td>\n      <td>-106.869902</td>\n      <td>-106.869228</td>\n    </tr>\n    <tr>\n      <th>area</th>\n      <td>1235.960000</td>\n      <td>1538.630000</td>\n      <td>1944.280000</td>\n      <td>1501.920000</td>\n      <td>1605.700000</td>\n      <td>1483.960000</td>\n      <td>1692.870000</td>\n      <td>1472.710000</td>\n      <td>1221.860000</td>\n      <td>1410.730000</td>\n      <td>1516.910000</td>\n      <td>1287.200000</td>\n      <td>1177.590000</td>\n      <td>1818.310000</td>\n    </tr>\n  </tbody>\n</table>\n</div>"
     },
     "metadata": {},
     "execution_count": 49
    }
   ],
   "source": [
    "# view all plot coordinates and geometric area in alpha order\n",
    "all_plotcoords = all_plotcoords.reindex(sorted(all_plotcoords.columns), axis=1)\n",
    "all_plotcoords"
   ]
  },
  {
   "source": [
    "## 5. Transform dataframe for LBL SFA\n",
    "Update names and transpose the dataframe to match LBL Watershed Function SFA metadata format"
   ],
   "cell_type": "markdown",
   "metadata": {}
  },
  {
   "cell_type": "code",
   "execution_count": 52,
   "metadata": {},
   "outputs": [],
   "source": [
    "# update names\n",
    "apc = all_plotcoords\n",
    "\n",
    "# transpose the dataframe for 'tidy' data format\n",
    "apc = apc.transpose()"
   ]
  },
  {
   "cell_type": "code",
   "execution_count": 53,
   "metadata": {},
   "outputs": [
    {
     "output_type": "execute_result",
     "data": {
      "text/plain": [
       "         corner1_lat  corner1_lon  corner2_lat  corner2_lon  corner3_lat  \\\n",
       "CC-UC1     38.840071  -107.064394    38.840083  -107.063973    38.839733   \n",
       "CC-UC2     38.829620  -107.082529    38.829323  -107.082307    38.829116   \n",
       "ER-APL1    38.977250  -106.992572    38.977259  -106.991997    38.976877   \n",
       "ER-APU1    38.979252  -106.980638    38.979371  -106.980268    38.979037   \n",
       "ER-BME1    38.976162  -107.030677    38.976230  -107.030186    38.975857   \n",
       "ER-BME2    38.984154  -107.017552    38.983789  -107.017516    38.983807   \n",
       "ER-GT1     38.977225  -107.005626    38.977476  -107.005890    38.976959   \n",
       "SG-NES2    38.930610  -106.987036    38.930571  -106.986576    38.930237   \n",
       "SG-SWR1    38.922209  -106.984656    38.922148  -106.984207    38.921870   \n",
       "WG-WGM1    38.948597  -107.026671    38.948809  -107.026361    38.948555   \n",
       "XX-CAR1    38.823808  -107.021240    38.824142  -107.021106    38.824189   \n",
       "XX-CAR2    38.806019  -107.050979    38.805987  -107.050607    38.805688   \n",
       "XX-PLN1    38.860625  -106.870152    38.860638  -106.869693    38.860332   \n",
       "XX-PLN2    38.853615  -106.869529    38.853964  -106.869423    38.853873   \n",
       "\n",
       "         corner3_lon  corner4_lat  corner4_lon  center_lat  center_lon  \\\n",
       "CC-UC1   -107.064006    38.839799  -107.064406   38.839922 -107.064186   \n",
       "CC-UC2   -107.082658    38.829408  -107.082919   38.829368 -107.082607   \n",
       "ER-APL1  -106.992027    38.976869  -106.992512   38.977069 -106.992277   \n",
       "ER-APU1  -106.980063    38.978909  -106.980485   38.979139 -106.980358   \n",
       "ER-BME1  -107.030175    38.975811  -107.030591   38.976018 -107.030406   \n",
       "ER-BME2  -107.017972    38.984134  -107.017987   38.983970 -107.017749   \n",
       "ER-GT1   -107.006036    38.977260  -107.006297   38.977226 -107.005961   \n",
       "SG-NES2  -106.986661    38.930266  -106.987089   38.930426 -106.986841   \n",
       "SG-SWR1  -106.984241    38.921903  -106.984656   38.922037 -106.984442   \n",
       "WG-WGM1  -107.026074    38.948321  -107.026402   38.948571 -107.026375   \n",
       "XX-CAR1  -107.021561    38.823876  -107.021707   38.824003 -107.021400   \n",
       "XX-CAR2  -107.050544    38.805672  -107.050999   38.805835 -107.050785   \n",
       "XX-PLN1  -106.869668    38.860390  -106.870117   38.860505 -106.869902   \n",
       "XX-PLN2  -106.868952    38.853487  -106.869028   38.853734 -106.869228   \n",
       "\n",
       "            area  \n",
       "CC-UC1   1235.96  \n",
       "CC-UC2   1538.63  \n",
       "ER-APL1  1944.28  \n",
       "ER-APU1  1501.92  \n",
       "ER-BME1  1605.70  \n",
       "ER-BME2  1483.96  \n",
       "ER-GT1   1692.87  \n",
       "SG-NES2  1472.71  \n",
       "SG-SWR1  1221.86  \n",
       "WG-WGM1  1410.73  \n",
       "XX-CAR1  1516.91  \n",
       "XX-CAR2  1287.20  \n",
       "XX-PLN1  1177.59  \n",
       "XX-PLN2  1818.31  "
      ],
      "text/html": "<div>\n<style scoped>\n    .dataframe tbody tr th:only-of-type {\n        vertical-align: middle;\n    }\n\n    .dataframe tbody tr th {\n        vertical-align: top;\n    }\n\n    .dataframe thead th {\n        text-align: right;\n    }\n</style>\n<table border=\"1\" class=\"dataframe\">\n  <thead>\n    <tr style=\"text-align: right;\">\n      <th></th>\n      <th>corner1_lat</th>\n      <th>corner1_lon</th>\n      <th>corner2_lat</th>\n      <th>corner2_lon</th>\n      <th>corner3_lat</th>\n      <th>corner3_lon</th>\n      <th>corner4_lat</th>\n      <th>corner4_lon</th>\n      <th>center_lat</th>\n      <th>center_lon</th>\n      <th>area</th>\n    </tr>\n  </thead>\n  <tbody>\n    <tr>\n      <th>CC-UC1</th>\n      <td>38.840071</td>\n      <td>-107.064394</td>\n      <td>38.840083</td>\n      <td>-107.063973</td>\n      <td>38.839733</td>\n      <td>-107.064006</td>\n      <td>38.839799</td>\n      <td>-107.064406</td>\n      <td>38.839922</td>\n      <td>-107.064186</td>\n      <td>1235.96</td>\n    </tr>\n    <tr>\n      <th>CC-UC2</th>\n      <td>38.829620</td>\n      <td>-107.082529</td>\n      <td>38.829323</td>\n      <td>-107.082307</td>\n      <td>38.829116</td>\n      <td>-107.082658</td>\n      <td>38.829408</td>\n      <td>-107.082919</td>\n      <td>38.829368</td>\n      <td>-107.082607</td>\n      <td>1538.63</td>\n    </tr>\n    <tr>\n      <th>ER-APL1</th>\n      <td>38.977250</td>\n      <td>-106.992572</td>\n      <td>38.977259</td>\n      <td>-106.991997</td>\n      <td>38.976877</td>\n      <td>-106.992027</td>\n      <td>38.976869</td>\n      <td>-106.992512</td>\n      <td>38.977069</td>\n      <td>-106.992277</td>\n      <td>1944.28</td>\n    </tr>\n    <tr>\n      <th>ER-APU1</th>\n      <td>38.979252</td>\n      <td>-106.980638</td>\n      <td>38.979371</td>\n      <td>-106.980268</td>\n      <td>38.979037</td>\n      <td>-106.980063</td>\n      <td>38.978909</td>\n      <td>-106.980485</td>\n      <td>38.979139</td>\n      <td>-106.980358</td>\n      <td>1501.92</td>\n    </tr>\n    <tr>\n      <th>ER-BME1</th>\n      <td>38.976162</td>\n      <td>-107.030677</td>\n      <td>38.976230</td>\n      <td>-107.030186</td>\n      <td>38.975857</td>\n      <td>-107.030175</td>\n      <td>38.975811</td>\n      <td>-107.030591</td>\n      <td>38.976018</td>\n      <td>-107.030406</td>\n      <td>1605.70</td>\n    </tr>\n    <tr>\n      <th>ER-BME2</th>\n      <td>38.984154</td>\n      <td>-107.017552</td>\n      <td>38.983789</td>\n      <td>-107.017516</td>\n      <td>38.983807</td>\n      <td>-107.017972</td>\n      <td>38.984134</td>\n      <td>-107.017987</td>\n      <td>38.983970</td>\n      <td>-107.017749</td>\n      <td>1483.96</td>\n    </tr>\n    <tr>\n      <th>ER-GT1</th>\n      <td>38.977225</td>\n      <td>-107.005626</td>\n      <td>38.977476</td>\n      <td>-107.005890</td>\n      <td>38.976959</td>\n      <td>-107.006036</td>\n      <td>38.977260</td>\n      <td>-107.006297</td>\n      <td>38.977226</td>\n      <td>-107.005961</td>\n      <td>1692.87</td>\n    </tr>\n    <tr>\n      <th>SG-NES2</th>\n      <td>38.930610</td>\n      <td>-106.987036</td>\n      <td>38.930571</td>\n      <td>-106.986576</td>\n      <td>38.930237</td>\n      <td>-106.986661</td>\n      <td>38.930266</td>\n      <td>-106.987089</td>\n      <td>38.930426</td>\n      <td>-106.986841</td>\n      <td>1472.71</td>\n    </tr>\n    <tr>\n      <th>SG-SWR1</th>\n      <td>38.922209</td>\n      <td>-106.984656</td>\n      <td>38.922148</td>\n      <td>-106.984207</td>\n      <td>38.921870</td>\n      <td>-106.984241</td>\n      <td>38.921903</td>\n      <td>-106.984656</td>\n      <td>38.922037</td>\n      <td>-106.984442</td>\n      <td>1221.86</td>\n    </tr>\n    <tr>\n      <th>WG-WGM1</th>\n      <td>38.948597</td>\n      <td>-107.026671</td>\n      <td>38.948809</td>\n      <td>-107.026361</td>\n      <td>38.948555</td>\n      <td>-107.026074</td>\n      <td>38.948321</td>\n      <td>-107.026402</td>\n      <td>38.948571</td>\n      <td>-107.026375</td>\n      <td>1410.73</td>\n    </tr>\n    <tr>\n      <th>XX-CAR1</th>\n      <td>38.823808</td>\n      <td>-107.021240</td>\n      <td>38.824142</td>\n      <td>-107.021106</td>\n      <td>38.824189</td>\n      <td>-107.021561</td>\n      <td>38.823876</td>\n      <td>-107.021707</td>\n      <td>38.824003</td>\n      <td>-107.021400</td>\n      <td>1516.91</td>\n    </tr>\n    <tr>\n      <th>XX-CAR2</th>\n      <td>38.806019</td>\n      <td>-107.050979</td>\n      <td>38.805987</td>\n      <td>-107.050607</td>\n      <td>38.805688</td>\n      <td>-107.050544</td>\n      <td>38.805672</td>\n      <td>-107.050999</td>\n      <td>38.805835</td>\n      <td>-107.050785</td>\n      <td>1287.20</td>\n    </tr>\n    <tr>\n      <th>XX-PLN1</th>\n      <td>38.860625</td>\n      <td>-106.870152</td>\n      <td>38.860638</td>\n      <td>-106.869693</td>\n      <td>38.860332</td>\n      <td>-106.869668</td>\n      <td>38.860390</td>\n      <td>-106.870117</td>\n      <td>38.860505</td>\n      <td>-106.869902</td>\n      <td>1177.59</td>\n    </tr>\n    <tr>\n      <th>XX-PLN2</th>\n      <td>38.853615</td>\n      <td>-106.869529</td>\n      <td>38.853964</td>\n      <td>-106.869423</td>\n      <td>38.853873</td>\n      <td>-106.868952</td>\n      <td>38.853487</td>\n      <td>-106.869028</td>\n      <td>38.853734</td>\n      <td>-106.869228</td>\n      <td>1818.31</td>\n    </tr>\n  </tbody>\n</table>\n</div>"
     },
     "metadata": {},
     "execution_count": 53
    }
   ],
   "source": [
    "# view the transposed dataframe\n",
    "apc"
   ]
  },
  {
   "cell_type": "code",
   "execution_count": 55,
   "metadata": {},
   "outputs": [],
   "source": [
    "# export the transposed apc dataframe for plot location registration with LBL Watershed Function SFA\n",
    "apc.to_csv(os.sep.join([out_dir, 'Kueppers_EastRiver_Plot_Coordinates_Areas_2020_SFAReg.csv']))"
   ]
  },
  {
   "source": [
    "## 5. Optional: pull coordinates for a single site"
   ],
   "cell_type": "markdown",
   "metadata": {}
  },
  {
   "cell_type": "code",
   "execution_count": 67,
   "metadata": {},
   "outputs": [],
   "source": [
    "# define the plot name\n",
    "plot = 'XX-CAR2'\n",
    "\n",
    "# select the plot's corner points shapefile from the directory containing all plot shapefiles\n",
    "plotpoints = [i for i in os.listdir(sf_dir) if (plot in i) and ('pts') in i and (i.endswith('.shp'))]\n",
    "\n",
    "# create a geodataframe from the plot points shapefile\n",
    "plotpoints_gpdf = gpd.read_file(sf_dir + os.sep + plotpoints[0])\n",
    "\n",
    "# reproject to WSG 1984, a geographic coordinate system defining points in terms of location on geoid with WGS84 datum\n",
    "pp = plotpoints_gpdf.to_crs('EPSG:4326')"
   ]
  },
  {
   "cell_type": "code",
   "execution_count": 68,
   "metadata": {},
   "outputs": [
    {
     "output_type": "execute_result",
     "data": {
      "text/plain": [
       "     Comment  Max_PDOP  Max_HDOP           Corr_Type Rcvr_Type    GPS_Date  \\\n",
       "0  nw corner       3.0       1.4  Postprocessed Code    Geo 7X  2019-09-13   \n",
       "1  NE corner       3.1       1.3  Postprocessed Code    Geo 7X  2019-09-13   \n",
       "2  SE corner       4.1       1.2  Postprocessed Code    Geo 7X  2019-09-13   \n",
       "3  SW corner       3.4       1.6  Postprocessed Code    Geo 7X  2019-09-13   \n",
       "\n",
       "     GPS_Time Update_Sta Feat_Name             Datafile  ...  GPS_Second  \\\n",
       "0  11:59:00am        New  Point_ge  BAGSHAW_CARBONA.cor  ...    500357.0   \n",
       "1  12:03:40pm        New  Point_ge  BAGSHAW_CARBONB.cor  ...    500637.0   \n",
       "2  12:08:44pm        New  Point_ge  BAGSHAW_CARBONC.cor  ...    500941.0   \n",
       "3  12:12:58pm        New  Point_ge  BAGSHAW_CARBOND.cor  ...    501195.0   \n",
       "\n",
       "   GNSS_Heigh Vert_Prec  Horz_Prec   Std_Dev      Latitude       Longitude  \\\n",
       "0    3405.534       3.4        2.5  0.162553  38.806019292  -107.050979525   \n",
       "1    3402.076       3.2        2.2  0.297715  38.805987075  -107.050606876   \n",
       "2    3423.862       1.7        1.0  0.164806  38.805688021  -107.050544196   \n",
       "3    3413.741       2.0        1.1  0.187403  38.805672072  -107.050998840   \n",
       "\n",
       "   Point_ID  Plot_ID                     geometry  \n",
       "0         1     None  POINT (-107.05098 38.80602)  \n",
       "1         1     None  POINT (-107.05061 38.80599)  \n",
       "2         1     None  POINT (-107.05054 38.80569)  \n",
       "3         1     None  POINT (-107.05100 38.80567)  \n",
       "\n",
       "[4 rows x 24 columns]"
      ],
      "text/html": "<div>\n<style scoped>\n    .dataframe tbody tr th:only-of-type {\n        vertical-align: middle;\n    }\n\n    .dataframe tbody tr th {\n        vertical-align: top;\n    }\n\n    .dataframe thead th {\n        text-align: right;\n    }\n</style>\n<table border=\"1\" class=\"dataframe\">\n  <thead>\n    <tr style=\"text-align: right;\">\n      <th></th>\n      <th>Comment</th>\n      <th>Max_PDOP</th>\n      <th>Max_HDOP</th>\n      <th>Corr_Type</th>\n      <th>Rcvr_Type</th>\n      <th>GPS_Date</th>\n      <th>GPS_Time</th>\n      <th>Update_Sta</th>\n      <th>Feat_Name</th>\n      <th>Datafile</th>\n      <th>...</th>\n      <th>GPS_Second</th>\n      <th>GNSS_Heigh</th>\n      <th>Vert_Prec</th>\n      <th>Horz_Prec</th>\n      <th>Std_Dev</th>\n      <th>Latitude</th>\n      <th>Longitude</th>\n      <th>Point_ID</th>\n      <th>Plot_ID</th>\n      <th>geometry</th>\n    </tr>\n  </thead>\n  <tbody>\n    <tr>\n      <th>0</th>\n      <td>nw corner</td>\n      <td>3.0</td>\n      <td>1.4</td>\n      <td>Postprocessed Code</td>\n      <td>Geo 7X</td>\n      <td>2019-09-13</td>\n      <td>11:59:00am</td>\n      <td>New</td>\n      <td>Point_ge</td>\n      <td>BAGSHAW_CARBONA.cor</td>\n      <td>...</td>\n      <td>500357.0</td>\n      <td>3405.534</td>\n      <td>3.4</td>\n      <td>2.5</td>\n      <td>0.162553</td>\n      <td>38.806019292</td>\n      <td>-107.050979525</td>\n      <td>1</td>\n      <td>None</td>\n      <td>POINT (-107.05098 38.80602)</td>\n    </tr>\n    <tr>\n      <th>1</th>\n      <td>NE corner</td>\n      <td>3.1</td>\n      <td>1.3</td>\n      <td>Postprocessed Code</td>\n      <td>Geo 7X</td>\n      <td>2019-09-13</td>\n      <td>12:03:40pm</td>\n      <td>New</td>\n      <td>Point_ge</td>\n      <td>BAGSHAW_CARBONB.cor</td>\n      <td>...</td>\n      <td>500637.0</td>\n      <td>3402.076</td>\n      <td>3.2</td>\n      <td>2.2</td>\n      <td>0.297715</td>\n      <td>38.805987075</td>\n      <td>-107.050606876</td>\n      <td>1</td>\n      <td>None</td>\n      <td>POINT (-107.05061 38.80599)</td>\n    </tr>\n    <tr>\n      <th>2</th>\n      <td>SE corner</td>\n      <td>4.1</td>\n      <td>1.2</td>\n      <td>Postprocessed Code</td>\n      <td>Geo 7X</td>\n      <td>2019-09-13</td>\n      <td>12:08:44pm</td>\n      <td>New</td>\n      <td>Point_ge</td>\n      <td>BAGSHAW_CARBONC.cor</td>\n      <td>...</td>\n      <td>500941.0</td>\n      <td>3423.862</td>\n      <td>1.7</td>\n      <td>1.0</td>\n      <td>0.164806</td>\n      <td>38.805688021</td>\n      <td>-107.050544196</td>\n      <td>1</td>\n      <td>None</td>\n      <td>POINT (-107.05054 38.80569)</td>\n    </tr>\n    <tr>\n      <th>3</th>\n      <td>SW corner</td>\n      <td>3.4</td>\n      <td>1.6</td>\n      <td>Postprocessed Code</td>\n      <td>Geo 7X</td>\n      <td>2019-09-13</td>\n      <td>12:12:58pm</td>\n      <td>New</td>\n      <td>Point_ge</td>\n      <td>BAGSHAW_CARBOND.cor</td>\n      <td>...</td>\n      <td>501195.0</td>\n      <td>3413.741</td>\n      <td>2.0</td>\n      <td>1.1</td>\n      <td>0.187403</td>\n      <td>38.805672072</td>\n      <td>-107.050998840</td>\n      <td>1</td>\n      <td>None</td>\n      <td>POINT (-107.05100 38.80567)</td>\n    </tr>\n  </tbody>\n</table>\n<p>4 rows × 24 columns</p>\n</div>"
     },
     "metadata": {},
     "execution_count": 68
    }
   ],
   "source": [
    "pp"
   ]
  },
  {
   "cell_type": "code",
   "execution_count": 72,
   "metadata": {
    "tags": []
   },
   "outputs": [],
   "source": [
    "# get the plot center points stored in the shapefile in WGS 1984 geographic projection\n",
    "areactr = (kplots_gpdf.loc[kplots_gpdf['Plot_ID'] == plot, \n",
    "                            ['Plot_ID', 'AREA_GEO', 'GEOMCTR_X', 'GEOMCTR_Y']])"
   ]
  },
  {
   "cell_type": "code",
   "execution_count": 74,
   "metadata": {},
   "outputs": [
    {
     "output_type": "execute_result",
     "data": {
      "text/plain": [
       "    variable    value\n",
       "0    Plot_ID  XX-CAR2\n",
       "3  GEOMCTR_Y  38.8058\n",
       "2  GEOMCTR_X -107.051\n",
       "1   AREA_GEO   1287.2"
      ],
      "text/html": "<div>\n<style scoped>\n    .dataframe tbody tr th:only-of-type {\n        vertical-align: middle;\n    }\n\n    .dataframe tbody tr th {\n        vertical-align: top;\n    }\n\n    .dataframe thead th {\n        text-align: right;\n    }\n</style>\n<table border=\"1\" class=\"dataframe\">\n  <thead>\n    <tr style=\"text-align: right;\">\n      <th></th>\n      <th>variable</th>\n      <th>value</th>\n    </tr>\n  </thead>\n  <tbody>\n    <tr>\n      <th>0</th>\n      <td>Plot_ID</td>\n      <td>XX-CAR2</td>\n    </tr>\n    <tr>\n      <th>3</th>\n      <td>GEOMCTR_Y</td>\n      <td>38.8058</td>\n    </tr>\n    <tr>\n      <th>2</th>\n      <td>GEOMCTR_X</td>\n      <td>-107.051</td>\n    </tr>\n    <tr>\n      <th>1</th>\n      <td>AREA_GEO</td>\n      <td>1287.2</td>\n    </tr>\n  </tbody>\n</table>\n</div>"
     },
     "metadata": {},
     "execution_count": 74
    }
   ],
   "source": [
    "# pull the center point coordinates and area value\n",
    "areactr_vals = pd.melt(areactr).sort_values('variable', ascending = False)\n",
    "areactr_vals"
   ]
  },
  {
   "cell_type": "code",
   "execution_count": 59,
   "metadata": {},
   "outputs": [
    {
     "output_type": "error",
     "ename": "KeyError",
     "evalue": "'Corner'",
     "traceback": [
      "\u001b[0;31m---------------------------------------------------------------------------\u001b[0m",
      "\u001b[0;31mKeyError\u001b[0m                                  Traceback (most recent call last)",
      "\u001b[0;32m~/.pyenv/versions/eastriver/lib/python3.8/site-packages/pandas/core/indexes/base.py\u001b[0m in \u001b[0;36mget_loc\u001b[0;34m(self, key, method, tolerance)\u001b[0m\n\u001b[1;32m   2894\u001b[0m             \u001b[0;32mtry\u001b[0m\u001b[0;34m:\u001b[0m\u001b[0;34m\u001b[0m\u001b[0;34m\u001b[0m\u001b[0m\n\u001b[0;32m-> 2895\u001b[0;31m                 \u001b[0;32mreturn\u001b[0m \u001b[0mself\u001b[0m\u001b[0;34m.\u001b[0m\u001b[0m_engine\u001b[0m\u001b[0;34m.\u001b[0m\u001b[0mget_loc\u001b[0m\u001b[0;34m(\u001b[0m\u001b[0mcasted_key\u001b[0m\u001b[0;34m)\u001b[0m\u001b[0;34m\u001b[0m\u001b[0;34m\u001b[0m\u001b[0m\n\u001b[0m\u001b[1;32m   2896\u001b[0m             \u001b[0;32mexcept\u001b[0m \u001b[0mKeyError\u001b[0m \u001b[0;32mas\u001b[0m \u001b[0merr\u001b[0m\u001b[0;34m:\u001b[0m\u001b[0;34m\u001b[0m\u001b[0;34m\u001b[0m\u001b[0m\n",
      "\u001b[0;32mpandas/_libs/index.pyx\u001b[0m in \u001b[0;36mpandas._libs.index.IndexEngine.get_loc\u001b[0;34m()\u001b[0m\n",
      "\u001b[0;32mpandas/_libs/index.pyx\u001b[0m in \u001b[0;36mpandas._libs.index.IndexEngine.get_loc\u001b[0;34m()\u001b[0m\n",
      "\u001b[0;32mpandas/_libs/hashtable_class_helper.pxi\u001b[0m in \u001b[0;36mpandas._libs.hashtable.PyObjectHashTable.get_item\u001b[0;34m()\u001b[0m\n",
      "\u001b[0;32mpandas/_libs/hashtable_class_helper.pxi\u001b[0m in \u001b[0;36mpandas._libs.hashtable.PyObjectHashTable.get_item\u001b[0;34m()\u001b[0m\n",
      "\u001b[0;31mKeyError\u001b[0m: 'Corner'",
      "\nThe above exception was the direct cause of the following exception:\n",
      "\u001b[0;31mKeyError\u001b[0m                                  Traceback (most recent call last)",
      "\u001b[0;32m<ipython-input-59-3fffa76523d2>\u001b[0m in \u001b[0;36m<module>\u001b[0;34m\u001b[0m\n\u001b[1;32m      2\u001b[0m \u001b[0mlat\u001b[0m \u001b[0;34m=\u001b[0m \u001b[0mpp\u001b[0m\u001b[0;34m.\u001b[0m\u001b[0mgeometry\u001b[0m\u001b[0;34m.\u001b[0m\u001b[0my\u001b[0m\u001b[0;34m\u001b[0m\u001b[0;34m\u001b[0m\u001b[0m\n\u001b[1;32m      3\u001b[0m \u001b[0;34m\u001b[0m\u001b[0m\n\u001b[0;32m----> 4\u001b[0;31m \u001b[0mxx\u001b[0m \u001b[0;34m=\u001b[0m \u001b[0mpd\u001b[0m\u001b[0;34m.\u001b[0m\u001b[0mDataFrame\u001b[0m\u001b[0;34m(\u001b[0m\u001b[0mpp\u001b[0m\u001b[0;34m[\u001b[0m\u001b[0;34m'Corner'\u001b[0m\u001b[0;34m]\u001b[0m\u001b[0;34m)\u001b[0m\u001b[0;34m\u001b[0m\u001b[0;34m\u001b[0m\u001b[0m\n\u001b[0m\u001b[1;32m      5\u001b[0m \u001b[0mxx\u001b[0m\u001b[0;34m[\u001b[0m\u001b[0;34m'long'\u001b[0m\u001b[0;34m]\u001b[0m \u001b[0;34m=\u001b[0m \u001b[0mlong\u001b[0m\u001b[0;34m\u001b[0m\u001b[0;34m\u001b[0m\u001b[0m\n\u001b[1;32m      6\u001b[0m \u001b[0mxx\u001b[0m\u001b[0;34m[\u001b[0m\u001b[0;34m'lat'\u001b[0m\u001b[0;34m]\u001b[0m \u001b[0;34m=\u001b[0m \u001b[0mlat\u001b[0m\u001b[0;34m\u001b[0m\u001b[0;34m\u001b[0m\u001b[0m\n",
      "\u001b[0;32m~/.pyenv/versions/eastriver/lib/python3.8/site-packages/geopandas/geodataframe.py\u001b[0m in \u001b[0;36m__getitem__\u001b[0;34m(self, key)\u001b[0m\n\u001b[1;32m    826\u001b[0m         \u001b[0mGeoDataFrame\u001b[0m\u001b[0;34m.\u001b[0m\u001b[0;34m\u001b[0m\u001b[0;34m\u001b[0m\u001b[0m\n\u001b[1;32m    827\u001b[0m         \"\"\"\n\u001b[0;32m--> 828\u001b[0;31m         \u001b[0mresult\u001b[0m \u001b[0;34m=\u001b[0m \u001b[0msuper\u001b[0m\u001b[0;34m(\u001b[0m\u001b[0mGeoDataFrame\u001b[0m\u001b[0;34m,\u001b[0m \u001b[0mself\u001b[0m\u001b[0;34m)\u001b[0m\u001b[0;34m.\u001b[0m\u001b[0m__getitem__\u001b[0m\u001b[0;34m(\u001b[0m\u001b[0mkey\u001b[0m\u001b[0;34m)\u001b[0m\u001b[0;34m\u001b[0m\u001b[0;34m\u001b[0m\u001b[0m\n\u001b[0m\u001b[1;32m    829\u001b[0m         \u001b[0mgeo_col\u001b[0m \u001b[0;34m=\u001b[0m \u001b[0mself\u001b[0m\u001b[0;34m.\u001b[0m\u001b[0m_geometry_column_name\u001b[0m\u001b[0;34m\u001b[0m\u001b[0;34m\u001b[0m\u001b[0m\n\u001b[1;32m    830\u001b[0m         \u001b[0;32mif\u001b[0m \u001b[0misinstance\u001b[0m\u001b[0;34m(\u001b[0m\u001b[0mresult\u001b[0m\u001b[0;34m,\u001b[0m \u001b[0mSeries\u001b[0m\u001b[0;34m)\u001b[0m \u001b[0;32mand\u001b[0m \u001b[0misinstance\u001b[0m\u001b[0;34m(\u001b[0m\u001b[0mresult\u001b[0m\u001b[0;34m.\u001b[0m\u001b[0mdtype\u001b[0m\u001b[0;34m,\u001b[0m \u001b[0mGeometryDtype\u001b[0m\u001b[0;34m)\u001b[0m\u001b[0;34m:\u001b[0m\u001b[0;34m\u001b[0m\u001b[0;34m\u001b[0m\u001b[0m\n",
      "\u001b[0;32m~/.pyenv/versions/eastriver/lib/python3.8/site-packages/pandas/core/frame.py\u001b[0m in \u001b[0;36m__getitem__\u001b[0;34m(self, key)\u001b[0m\n\u001b[1;32m   2900\u001b[0m             \u001b[0;32mif\u001b[0m \u001b[0mself\u001b[0m\u001b[0;34m.\u001b[0m\u001b[0mcolumns\u001b[0m\u001b[0;34m.\u001b[0m\u001b[0mnlevels\u001b[0m \u001b[0;34m>\u001b[0m \u001b[0;36m1\u001b[0m\u001b[0;34m:\u001b[0m\u001b[0;34m\u001b[0m\u001b[0;34m\u001b[0m\u001b[0m\n\u001b[1;32m   2901\u001b[0m                 \u001b[0;32mreturn\u001b[0m \u001b[0mself\u001b[0m\u001b[0;34m.\u001b[0m\u001b[0m_getitem_multilevel\u001b[0m\u001b[0;34m(\u001b[0m\u001b[0mkey\u001b[0m\u001b[0;34m)\u001b[0m\u001b[0;34m\u001b[0m\u001b[0;34m\u001b[0m\u001b[0m\n\u001b[0;32m-> 2902\u001b[0;31m             \u001b[0mindexer\u001b[0m \u001b[0;34m=\u001b[0m \u001b[0mself\u001b[0m\u001b[0;34m.\u001b[0m\u001b[0mcolumns\u001b[0m\u001b[0;34m.\u001b[0m\u001b[0mget_loc\u001b[0m\u001b[0;34m(\u001b[0m\u001b[0mkey\u001b[0m\u001b[0;34m)\u001b[0m\u001b[0;34m\u001b[0m\u001b[0;34m\u001b[0m\u001b[0m\n\u001b[0m\u001b[1;32m   2903\u001b[0m             \u001b[0;32mif\u001b[0m \u001b[0mis_integer\u001b[0m\u001b[0;34m(\u001b[0m\u001b[0mindexer\u001b[0m\u001b[0;34m)\u001b[0m\u001b[0;34m:\u001b[0m\u001b[0;34m\u001b[0m\u001b[0;34m\u001b[0m\u001b[0m\n\u001b[1;32m   2904\u001b[0m                 \u001b[0mindexer\u001b[0m \u001b[0;34m=\u001b[0m \u001b[0;34m[\u001b[0m\u001b[0mindexer\u001b[0m\u001b[0;34m]\u001b[0m\u001b[0;34m\u001b[0m\u001b[0;34m\u001b[0m\u001b[0m\n",
      "\u001b[0;32m~/.pyenv/versions/eastriver/lib/python3.8/site-packages/pandas/core/indexes/base.py\u001b[0m in \u001b[0;36mget_loc\u001b[0;34m(self, key, method, tolerance)\u001b[0m\n\u001b[1;32m   2895\u001b[0m                 \u001b[0;32mreturn\u001b[0m \u001b[0mself\u001b[0m\u001b[0;34m.\u001b[0m\u001b[0m_engine\u001b[0m\u001b[0;34m.\u001b[0m\u001b[0mget_loc\u001b[0m\u001b[0;34m(\u001b[0m\u001b[0mcasted_key\u001b[0m\u001b[0;34m)\u001b[0m\u001b[0;34m\u001b[0m\u001b[0;34m\u001b[0m\u001b[0m\n\u001b[1;32m   2896\u001b[0m             \u001b[0;32mexcept\u001b[0m \u001b[0mKeyError\u001b[0m \u001b[0;32mas\u001b[0m \u001b[0merr\u001b[0m\u001b[0;34m:\u001b[0m\u001b[0;34m\u001b[0m\u001b[0;34m\u001b[0m\u001b[0m\n\u001b[0;32m-> 2897\u001b[0;31m                 \u001b[0;32mraise\u001b[0m \u001b[0mKeyError\u001b[0m\u001b[0;34m(\u001b[0m\u001b[0mkey\u001b[0m\u001b[0;34m)\u001b[0m \u001b[0;32mfrom\u001b[0m \u001b[0merr\u001b[0m\u001b[0;34m\u001b[0m\u001b[0;34m\u001b[0m\u001b[0m\n\u001b[0m\u001b[1;32m   2898\u001b[0m \u001b[0;34m\u001b[0m\u001b[0m\n\u001b[1;32m   2899\u001b[0m         \u001b[0;32mif\u001b[0m \u001b[0mtolerance\u001b[0m \u001b[0;32mis\u001b[0m \u001b[0;32mnot\u001b[0m \u001b[0;32mNone\u001b[0m\u001b[0;34m:\u001b[0m\u001b[0;34m\u001b[0m\u001b[0;34m\u001b[0m\u001b[0m\n",
      "\u001b[0;31mKeyError\u001b[0m: 'Corner'"
     ]
    }
   ],
   "source": [
    "long = pp.geometry.x\n",
    "lat = pp.geometry.y\n",
    "\n",
    "xx = pd.DataFrame(pp['Corner'])\n",
    "xx['long'] = long\n",
    "xx['lat'] = lat\n",
    "xx"
   ]
  },
  {
   "cell_type": "code",
   "execution_count": 65,
   "metadata": {},
   "outputs": [
    {
     "output_type": "error",
     "ename": "NameError",
     "evalue": "name 'xx' is not defined",
     "traceback": [
      "\u001b[0;31m---------------------------------------------------------------------------\u001b[0m",
      "\u001b[0;31mNameError\u001b[0m                                 Traceback (most recent call last)",
      "\u001b[0;32m<ipython-input-65-45df936c4ed5>\u001b[0m in \u001b[0;36m<module>\u001b[0;34m\u001b[0m\n\u001b[0;32m----> 1\u001b[0;31m \u001b[0myy\u001b[0m \u001b[0;34m=\u001b[0m \u001b[0mpd\u001b[0m\u001b[0;34m.\u001b[0m\u001b[0mmelt\u001b[0m\u001b[0;34m(\u001b[0m\u001b[0mxx\u001b[0m\u001b[0;34m,\u001b[0m \u001b[0mid_vars\u001b[0m \u001b[0;34m=\u001b[0m \u001b[0;34m'Corner'\u001b[0m\u001b[0;34m,\u001b[0m \u001b[0mvalue_vars\u001b[0m\u001b[0;34m=\u001b[0m \u001b[0;34m[\u001b[0m\u001b[0;34m'lat'\u001b[0m\u001b[0;34m,\u001b[0m \u001b[0;34m'long'\u001b[0m\u001b[0;34m]\u001b[0m\u001b[0;34m)\u001b[0m\u001b[0;34m\u001b[0m\u001b[0;34m\u001b[0m\u001b[0m\n\u001b[0m\u001b[1;32m      2\u001b[0m \u001b[0mlatlon\u001b[0m \u001b[0;34m=\u001b[0m \u001b[0myy\u001b[0m\u001b[0;34m.\u001b[0m\u001b[0msort_values\u001b[0m\u001b[0;34m(\u001b[0m\u001b[0;34m'Corner'\u001b[0m\u001b[0;34m)\u001b[0m\u001b[0;34m\u001b[0m\u001b[0;34m\u001b[0m\u001b[0m\n\u001b[1;32m      3\u001b[0m \u001b[0mlatlon\u001b[0m\u001b[0;34m\u001b[0m\u001b[0;34m\u001b[0m\u001b[0m\n",
      "\u001b[0;31mNameError\u001b[0m: name 'xx' is not defined"
     ]
    }
   ],
   "source": [
    "yy = pd.melt(xx, id_vars = 'Corner', value_vars= ['lat', 'long'])\n",
    "latlon = yy.sort_values('Corner')\n",
    "latlon"
   ]
  },
  {
   "cell_type": "code",
   "execution_count": 208,
   "metadata": {},
   "outputs": [],
   "source": [
    "pd.set_option('display.precision', 10)\n",
    "metadata_df = latlon.append(areactr_vals)\n",
    "metadata_df.index = range(0, 12)\n",
    "metadata_df = metadata_df.iloc[:,2:].drop(8)"
   ]
  },
  {
   "cell_type": "code",
   "execution_count": 209,
   "metadata": {},
   "outputs": [
    {
     "output_type": "execute_result",
     "data": {
      "text/plain": [
       "          value\n",
       "0   38.97724966\n",
       "1  -106.9925719\n",
       "2   38.97725873\n",
       "3   -106.991997\n",
       "4   38.97687687\n",
       "5  -106.9920269\n",
       "6   38.97686929\n",
       "7   -106.992512\n",
       "9     38.824003\n",
       "10    -107.0214\n",
       "11  1516.910426"
      ],
      "text/html": "<div>\n<style scoped>\n    .dataframe tbody tr th:only-of-type {\n        vertical-align: middle;\n    }\n\n    .dataframe tbody tr th {\n        vertical-align: top;\n    }\n\n    .dataframe thead th {\n        text-align: right;\n    }\n</style>\n<table border=\"1\" class=\"dataframe\">\n  <thead>\n    <tr style=\"text-align: right;\">\n      <th></th>\n      <th>value</th>\n    </tr>\n  </thead>\n  <tbody>\n    <tr>\n      <th>0</th>\n      <td>38.97724966</td>\n    </tr>\n    <tr>\n      <th>1</th>\n      <td>-106.9925719</td>\n    </tr>\n    <tr>\n      <th>2</th>\n      <td>38.97725873</td>\n    </tr>\n    <tr>\n      <th>3</th>\n      <td>-106.991997</td>\n    </tr>\n    <tr>\n      <th>4</th>\n      <td>38.97687687</td>\n    </tr>\n    <tr>\n      <th>5</th>\n      <td>-106.9920269</td>\n    </tr>\n    <tr>\n      <th>6</th>\n      <td>38.97686929</td>\n    </tr>\n    <tr>\n      <th>7</th>\n      <td>-106.992512</td>\n    </tr>\n    <tr>\n      <th>9</th>\n      <td>38.824003</td>\n    </tr>\n    <tr>\n      <th>10</th>\n      <td>-107.0214</td>\n    </tr>\n    <tr>\n      <th>11</th>\n      <td>1516.910426</td>\n    </tr>\n  </tbody>\n</table>\n</div>"
     },
     "metadata": {},
     "execution_count": 209
    }
   ],
   "source": [
    "metadata_df"
   ]
  }
 ]
}