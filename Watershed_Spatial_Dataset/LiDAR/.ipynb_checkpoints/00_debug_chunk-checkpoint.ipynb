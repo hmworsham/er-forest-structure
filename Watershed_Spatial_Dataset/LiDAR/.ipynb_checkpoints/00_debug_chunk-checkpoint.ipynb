{
 "cells": [
  {
   "cell_type": "code",
   "execution_count": 1,
   "metadata": {},
   "outputs": [],
   "source": [
    "import os\n",
    "import numpy as np\n",
    "import pandas as pd\n",
    "import spectral.io.envi as envi\n",
    "import glob\n",
    "import sys\n",
    "sys.path.append('/global/home/users/worsham/eastriver/Watershed_Spatial_Dataset/LiDAR/')\n",
    "from waveform import chunk_waveforms as cw\n",
    "import importlib"
   ]
  },
  {
   "cell_type": "code",
   "execution_count": 2,
   "metadata": {},
   "outputs": [],
   "source": [
    "tdir = '/global/scratch/users/worsham/waveformbinarychunks'"
   ]
  },
  {
   "cell_type": "code",
   "execution_count": 3,
   "metadata": {},
   "outputs": [
    {
     "data": {
      "text/plain": [
       "97"
      ]
     },
     "execution_count": 3,
     "metadata": {},
     "output_type": "execute_result"
    }
   ],
   "source": [
    "len(np.unique(np.array([i[:-4] for i in os.listdir(tdir)])))"
   ]
  },
  {
   "cell_type": "code",
   "execution_count": 12,
   "metadata": {},
   "outputs": [
    {
     "name": "stdout",
     "output_type": "stream",
     "text": [
      "n flightpaths: 97\n",
      "n chunks:  1448\n"
     ]
    }
   ],
   "source": [
    "print('n flightpaths:', len(np.unique(np.array([i[:-4] for i in os.listdir(tdir)]))))\n",
    "print('n chunks: ', len(os.listdir(tdir)))\n",
    "for sub, dir, f in os.walk(tdir):\n",
    "    if '-' in sub:\n",
    "        nfperchunk = len(os.listdir(sub))\n",
    "        chunk_strings = ['return_pulse', 'geolocation', 'outgoing_pulse', 'observation', 'ephemeris']\n",
    "        miss = [i for i in chunk_strings if i not in str(os.listdir(sub))]\n",
    "        if nfperchunk < 14:\n",
    "            print(sub, nfperchunk, miss)\n",
    "        assert nfperchunk == 14"
   ]
  },
  {
   "cell_type": "code",
   "execution_count": 10,
   "metadata": {},
   "outputs": [
    {
     "name": "stdout",
     "output_type": "stream",
     "text": [
      "['2018_CRBU_1_2018061214_FL001' '2018_CRBU_1_2018061214_FL002'\n",
      " '2018_CRBU_1_2018061214_FL003' '2018_CRBU_1_2018061214_FL004'\n",
      " '2018_CRBU_1_2018061214_FL005' '2018_CRBU_1_2018061214_FL006'\n",
      " '2018_CRBU_1_2018061214_FL007' '2018_CRBU_1_2018061214_FL008'\n",
      " '2018_CRBU_1_2018061214_FL009' '2018_CRBU_1_2018061214_FL010'\n",
      " '2018_CRBU_1_2018061214_FL011' '2018_CRBU_1_2018061214_FL012'\n",
      " '2018_CRBU_1_2018061214_FL013' '2018_CRBU_1_2018061214_FL014'\n",
      " '2018_CRBU_1_2018061214_FL015' '2018_CRBU_1_2018061214_FL016'\n",
      " '2018_CRBU_1_2018061214_FL017' '2018_CRBU_1_2018061214_FL018'\n",
      " '2018_CRBU_1_2018061314_FL001' '2018_CRBU_1_2018061314_FL002'\n",
      " '2018_CRBU_1_2018061314_FL003' '2018_CRBU_1_2018061314_FL004'\n",
      " '2018_CRBU_1_2018061314_FL005' '2018_CRBU_1_2018061314_FL006'\n",
      " '2018_CRBU_1_2018061314_FL007' '2018_CRBU_1_2018061314_FL008'\n",
      " '2018_CRBU_1_2018061314_FL009' '2018_CRBU_1_2018061314_FL010'\n",
      " '2018_CRBU_1_2018061314_FL011' '2018_CRBU_1_2018061314_FL012'\n",
      " '2018_CRBU_1_2018061314_FL013' '2018_CRBU_1_2018061314_FL014'\n",
      " '2018_CRBU_1_2018061914_FL001' '2018_CRBU_1_2018061914_FL002'\n",
      " '2018_CRBU_1_2018061914_FL003' '2018_CRBU_1_2018061914_FL004'\n",
      " '2018_CRBU_1_2018061914_FL005' '2018_CRBU_1_2018061914_FL006'\n",
      " '2018_CRBU_1_2018061914_FL007' '2018_CRBU_1_2018061914_FL008'\n",
      " '2018_CRBU_1_2018061914_FL009' '2018_CRBU_1_2018061914_FL010'\n",
      " '2018_CRBU_1_2018061914_FL011' '2018_CRBU_1_2018061914_FL012'\n",
      " '2018_CRBU_1_2018061914_FL013' '2018_CRBU_1_2018061914_FL014'\n",
      " '2018_CRBU_1_2018062013_FL001' '2018_CRBU_1_2018062013_FL002'\n",
      " '2018_CRBU_1_2018062013_FL003' '2018_CRBU_1_2018062013_FL004'\n",
      " '2018_CRBU_1_2018062013_FL005' '2018_CRBU_1_2018062013_FL006'\n",
      " '2018_CRBU_1_2018062013_FL007' '2018_CRBU_1_2018062013_FL008'\n",
      " '2018_CRBU_1_2018062113_FL001' '2018_CRBU_1_2018062113_FL002'\n",
      " '2018_CRBU_1_2018062113_FL003' '2018_CRBU_1_2018062113_FL004'\n",
      " '2018_CRBU_1_2018062113_FL005' '2018_CRBU_1_2018062113_FL006'\n",
      " '2018_CRBU_1_2018062113_FL007' '2018_CRBU_1_2018062113_FL008'\n",
      " '2018_CRBU_1_2018062113_FL009' '2018_CRBU_1_2018062113_FL010'\n",
      " '2018_CRBU_1_2018062113_FL011' '2018_CRBU_1_2018062113_FL012'\n",
      " '2018_CRBU_1_2018062113_FL013' '2018_CRBU_1_2018062113_FL014'\n",
      " '2018_CRBU_1_2018062113_FL015' '2018_CRBU_1_2018062113_FL016'\n",
      " '2018_CRBU_1_2018062113_FL017' '2018_CRBU_1_2018062113_FL018'\n",
      " '2018_CRBU_1_2018062113_FL019' '2018_CRBU_1_2018062514_FL001'\n",
      " '2018_CRBU_1_2018062514_FL002' '2018_CRBU_1_2018062514_FL003'\n",
      " '2018_CRBU_1_2018062514_FL004' '2018_CRBU_1_2018062514_FL005'\n",
      " '2018_CRBU_1_2018062514_FL006' '2018_CRBU_1_2018062514_FL007'\n",
      " '2018_CRBU_1_2018062514_FL008' '2018_CRBU_1_2018062514_FL009'\n",
      " '2018_CRBU_1_2018062514_FL010' '2018_CRBU_1_2018062514_FL011'\n",
      " '2018_CRBU_1_2018062514_FL012' '2018_CRBU_1_2018062514_FL013'\n",
      " '2018_CRBU_1_2018062514_FL014' '2018_CRBU_1_2018062514_FL015'\n",
      " '2018_CRBU_1_2018062614_FL001' '2018_CRBU_1_2018062614_FL002'\n",
      " '2018_CRBU_1_2018062614_FL003' '2018_CRBU_1_2018062614_FL004'\n",
      " '2018_CRBU_1_2018062614_FL005' '2018_CRBU_1_2018062614_FL006'\n",
      " '2018_CRBU_1_2018062614_FL007' '2018_CRBU_1_2018062614_FL008'\n",
      " '2018_CRBU_1_2018062614_FL009']\n"
     ]
    }
   ],
   "source": [
    "print(np.unique(np.array([i[:-4] for i in os.listdir(tdir)])))"
   ]
  },
  {
   "cell_type": "code",
   "execution_count": 13,
   "metadata": {},
   "outputs": [],
   "source": [
    "incomps = []\n",
    "for sub, dir, f in os.walk(tdir):\n",
    "    if '-' in sub and len(os.listdir(sub)) <14:\n",
    "        nfperchunk = len(os.listdir(sub))\n",
    "        incomps.append(sub)"
   ]
  },
  {
   "cell_type": "code",
   "execution_count": 14,
   "metadata": {
    "scrolled": true
   },
   "outputs": [
    {
     "data": {
      "text/plain": [
       "0"
      ]
     },
     "execution_count": 14,
     "metadata": {},
     "output_type": "execute_result"
    }
   ],
   "source": [
    "len(incomps)"
   ]
  },
  {
   "cell_type": "code",
   "execution_count": 15,
   "metadata": {},
   "outputs": [
    {
     "data": {
      "text/plain": [
       "[]"
      ]
     },
     "execution_count": 15,
     "metadata": {},
     "output_type": "execute_result"
    }
   ],
   "source": [
    "odir = '/global/scratch/users/worsham/waveform_binary'\n",
    "[i for i,x in enumerate(os.listdir(odir)) if x in list(np.unique(np.array([i[51:-4] for i in incomps])))]"
   ]
  },
  {
   "cell_type": "code",
   "execution_count": 16,
   "metadata": {},
   "outputs": [],
   "source": [
    "#sorted(incomps) \n",
    "failed1 = list(np.unique(np.array([i[51:-4] for i in incomps])))"
   ]
  },
  {
   "cell_type": "code",
   "execution_count": 17,
   "metadata": {},
   "outputs": [
    {
     "data": {
      "text/plain": [
       "[]"
      ]
     },
     "execution_count": 17,
     "metadata": {},
     "output_type": "execute_result"
    }
   ],
   "source": [
    "failed1"
   ]
  },
  {
   "cell_type": "code",
   "execution_count": 18,
   "metadata": {},
   "outputs": [],
   "source": [
    "inters = pd.read_csv('~/EastRiver_Plot_LiDAR_Intersections.csv')"
   ]
  },
  {
   "cell_type": "code",
   "execution_count": 19,
   "metadata": {},
   "outputs": [],
   "source": [
    "inters.rename(columns={'Unnamed: 0':'Chunk'}, inplace=True)"
   ]
  },
  {
   "cell_type": "code",
   "execution_count": 20,
   "metadata": {},
   "outputs": [
    {
     "data": {
      "text/html": [
       "<div>\n",
       "<style scoped>\n",
       "    .dataframe tbody tr th:only-of-type {\n",
       "        vertical-align: middle;\n",
       "    }\n",
       "\n",
       "    .dataframe tbody tr th {\n",
       "        vertical-align: top;\n",
       "    }\n",
       "\n",
       "    .dataframe thead th {\n",
       "        text-align: right;\n",
       "    }\n",
       "</style>\n",
       "<table border=\"1\" class=\"dataframe\">\n",
       "  <thead>\n",
       "    <tr style=\"text-align: right;\">\n",
       "      <th></th>\n",
       "      <th>Chunk</th>\n",
       "      <th>SG-SWR1</th>\n",
       "      <th>XX-PLN1</th>\n",
       "      <th>XX-CAR2</th>\n",
       "      <th>CC-UC1</th>\n",
       "      <th>WG-WGM1</th>\n",
       "      <th>ER-APL1</th>\n",
       "      <th>CC-UC2</th>\n",
       "      <th>XX-PLN2</th>\n",
       "      <th>XX-CAR1</th>\n",
       "      <th>SG-NES2</th>\n",
       "      <th>ER-BME2</th>\n",
       "      <th>ER-BME1</th>\n",
       "      <th>ER-APU1</th>\n",
       "      <th>ER-GT1</th>\n",
       "    </tr>\n",
       "  </thead>\n",
       "  <tbody>\n",
       "    <tr>\n",
       "      <td>406</td>\n",
       "      <td>2018_CRBU_1_2018061914_FL007-022</td>\n",
       "      <td>False</td>\n",
       "      <td>False</td>\n",
       "      <td>False</td>\n",
       "      <td>False</td>\n",
       "      <td>False</td>\n",
       "      <td>False</td>\n",
       "      <td>False</td>\n",
       "      <td>False</td>\n",
       "      <td>False</td>\n",
       "      <td>False</td>\n",
       "      <td>False</td>\n",
       "      <td>False</td>\n",
       "      <td>False</td>\n",
       "      <td>False</td>\n",
       "    </tr>\n",
       "  </tbody>\n",
       "</table>\n",
       "</div>"
      ],
      "text/plain": [
       "                                Chunk  SG-SWR1  XX-PLN1  XX-CAR2  CC-UC1  \\\n",
       "406  2018_CRBU_1_2018061914_FL007-022    False    False    False   False   \n",
       "\n",
       "     WG-WGM1  ER-APL1  CC-UC2  XX-PLN2  XX-CAR1  SG-NES2  ER-BME2  ER-BME1  \\\n",
       "406    False    False   False    False    False    False    False    False   \n",
       "\n",
       "     ER-APU1  ER-GT1  \n",
       "406    False   False  "
      ]
     },
     "execution_count": 20,
     "metadata": {},
     "output_type": "execute_result"
    }
   ],
   "source": [
    "inters[inters.Chunk == '2018_CRBU_1_2018061914_FL007-022']"
   ]
  },
  {
   "cell_type": "code",
   "execution_count": 21,
   "metadata": {},
   "outputs": [],
   "source": [
    "orig = sorted(list(inters.Chunk))\n",
    "tmp = sorted(os.listdir(tdir))\n",
    "missing = [item for item in orig if item not in tmp]"
   ]
  },
  {
   "cell_type": "code",
   "execution_count": 22,
   "metadata": {},
   "outputs": [],
   "source": [
    "failed2 = list(np.unique(np.array([i[:-4] for i in missing])))"
   ]
  },
  {
   "cell_type": "code",
   "execution_count": 23,
   "metadata": {},
   "outputs": [],
   "source": [
    "allfails = failed1 + failed2"
   ]
  },
  {
   "cell_type": "code",
   "execution_count": 24,
   "metadata": {},
   "outputs": [],
   "source": [
    "uniquefails = list(np.unique(np.array(allfails)))"
   ]
  },
  {
   "cell_type": "code",
   "execution_count": 25,
   "metadata": {},
   "outputs": [
    {
     "data": {
      "text/plain": [
       "[]"
      ]
     },
     "execution_count": 25,
     "metadata": {},
     "output_type": "execute_result"
    }
   ],
   "source": [
    "uniquefails"
   ]
  },
  {
   "cell_type": "code",
   "execution_count": 26,
   "metadata": {},
   "outputs": [],
   "source": [
    "def chunkdebug(fp, indir):\n",
    "    chunk_strings = ['return_pulse', 'geolocation', 'outgoing_pulse', 'observation', 'ephemeris']\n",
    "    full_list = os.listdir(os.path.join(indir, fp))\n",
    "    chunk_files = [nm for ps in chunk_strings for nm in full_list if ps in nm and 'hdr' not in nm]\n",
    "    for f in chunk_files: \n",
    "        img = envi.open(os.path.join(indir, fp, f + '.hdr'))\n",
    "        nobs = np.int(img.shape[0])\n",
    "        print(img, nobs)    "
   ]
  },
  {
   "cell_type": "code",
   "execution_count": 24,
   "metadata": {},
   "outputs": [],
   "source": [
    "xx = envi.open(os.path.join(odir, '2018_CRBU_1_2018062614_FL003/2018_CRBU_1_2018062614_FL003_waveform_geolocation_array_img.hdr'))"
   ]
  },
  {
   "cell_type": "code",
   "execution_count": 27,
   "metadata": {
    "scrolled": true
   },
   "outputs": [
    {
     "name": "stdout",
     "output_type": "stream",
     "text": [
      "\tData Source:   '/global/scratch/users/worsham/waveform_binary/2018_CRBU_1_2018062113_FL003/2018_CRBU_1_2018062113_FL003_waveform_return_pulse_array_img'\n",
      "\t# Rows:         17743930\n",
      "\t# Samples:         500\n",
      "\t# Bands:             1\n",
      "\tInterleave:        BIL\n",
      "\tQuantization:  16 bits\n",
      "\tData format:     int16 17743930\n",
      "\tData Source:   '/global/scratch/users/worsham/waveform_binary/2018_CRBU_1_2018062113_FL003/2018_CRBU_1_2018062113_FL003_waveform_geolocation_array_img'\n",
      "\t# Rows:         17743930\n",
      "\t# Samples:          16\n",
      "\t# Bands:             1\n",
      "\tInterleave:        BIL\n",
      "\tQuantization:  64 bits\n",
      "\tData format:   float64 17743930\n",
      "\tData Source:   '/global/scratch/users/worsham/waveform_binary/2018_CRBU_1_2018062113_FL003/2018_CRBU_1_2018062113_FL003_waveform_outgoing_pulse_array_img'\n",
      "\t# Rows:         17743930\n",
      "\t# Samples:         100\n",
      "\t# Bands:             1\n",
      "\tInterleave:        BIL\n",
      "\tQuantization:  16 bits\n",
      "\tData format:     int16 17743930\n",
      "\tData Source:   '/global/scratch/users/worsham/waveform_binary/2018_CRBU_1_2018062113_FL003/2018_CRBU_1_2018062113_FL003_waveform_observation_array_img'\n",
      "\t# Rows:         17743930\n",
      "\t# Samples:          12\n",
      "\t# Bands:             1\n",
      "\tInterleave:        BIL\n",
      "\tQuantization:  64 bits\n",
      "\tData format:   float64 17743930\n",
      "\tData Source:   '/global/scratch/users/worsham/waveform_binary/2018_CRBU_1_2018062113_FL003/2018_CRBU_1_2018062113_FL003_waveform_ephemeris_array_img'\n",
      "\t# Rows:         17743930\n",
      "\t# Samples:           7\n",
      "\t# Bands:             1\n",
      "\tInterleave:        BIL\n",
      "\tQuantization:  64 bits\n",
      "\tData format:   float64 17743930\n"
     ]
    }
   ],
   "source": [
    "xx = chunkdebug('2018_CRBU_1_2018062113_FL003', odir)"
   ]
  },
  {
   "cell_type": "code",
   "execution_count": 28,
   "metadata": {},
   "outputs": [],
   "source": [
    "importlib.reload(cw)\n",
    "for fp in uniquefails:\n",
    "    err=cw.chunk_wfbinary_loc(fp, odir, tdir)"
   ]
  }
 ],
 "metadata": {
  "kernelspec": {
   "display_name": "Python 3.7",
   "language": "python",
   "name": "python3"
  },
  "language_info": {
   "codemirror_mode": {
    "name": "ipython",
    "version": 3
   },
   "file_extension": ".py",
   "mimetype": "text/x-python",
   "name": "python",
   "nbconvert_exporter": "python",
   "pygments_lexer": "ipython3",
   "version": "3.7.4"
  }
 },
 "nbformat": 4,
 "nbformat_minor": 2
}
